{
 "cells": [
  {
   "cell_type": "code",
   "execution_count": 11,
   "id": "initial_id",
   "metadata": {
    "collapsed": true,
    "ExecuteTime": {
     "end_time": "2024-10-27T14:25:21.537008Z",
     "start_time": "2024-10-27T14:25:20.297764Z"
    }
   },
   "outputs": [],
   "source": [
    "%%capture --no-stderr\n",
    "%pip install -U langgraph langsmith langchain-openai graphviz"
   ]
  },
  {
   "cell_type": "code",
   "outputs": [],
   "source": [
    "import os\n",
    "from langchain_openai import ChatOpenAI\n",
    "\n",
    "\n",
    "os.environ['OPENAI_API_KEY'] = \"ur key\"\n",
    "llm = ChatOpenAI(model=\"gpt-4o\")"
   ],
   "metadata": {
    "collapsed": false,
    "ExecuteTime": {
     "end_time": "2024-10-27T14:25:21.551001Z",
     "start_time": "2024-10-27T14:25:21.538286Z"
    }
   },
   "id": "c74fa6f81f17e3d2",
   "execution_count": 12
  },
  {
   "cell_type": "code",
   "outputs": [],
   "source": [
    "from typing import TypedDict, Optional\n",
    "\n",
    "class GraphState(TypedDict):\n",
    "    question: Optional[str] \n",
    "    classification: Optional[str]\n",
    "    response: Optional[str]"
   ],
   "metadata": {
    "collapsed": false,
    "ExecuteTime": {
     "end_time": "2024-10-27T14:25:21.553356Z",
     "start_time": "2024-10-27T14:25:21.551684Z"
    }
   },
   "id": "d5c07b64ba401c9e",
   "execution_count": 13
  },
  {
   "cell_type": "code",
   "outputs": [],
   "source": [
    "from langgraph.graph import StateGraph\n",
    "graph = StateGraph(GraphState)"
   ],
   "metadata": {
    "collapsed": false,
    "ExecuteTime": {
     "end_time": "2024-10-27T14:25:21.556212Z",
     "start_time": "2024-10-27T14:25:21.554592Z"
    }
   },
   "id": "44a9886f1faa7688",
   "execution_count": 14
  },
  {
   "cell_type": "markdown",
   "source": [],
   "metadata": {
    "collapsed": false
   },
   "id": "c80282014fbb1cd3"
  },
  {
   "cell_type": "code",
   "outputs": [],
   "source": [
    "import random\n",
    "\n",
    "\n",
    "def classify_input_node(state):\n",
    "    question = state.get('question', '').strip()\n",
    "    # classification = classify(question)  # Assume a function that classifies the input\n",
    "    classification = \"handle_search\" if random.randint(0, 1) == 1 else \"greeting\"\n",
    "    return {\"classification\": classification}\n",
    "def handle_greeting_node(state):\n",
    "    return {\"response\": \"Hello! How can I help you today?\"}\n",
    "def handle_search_node(state):\n",
    "    question = state.get('question', '').strip()\n",
    "    search_result = f\"Search result for '{question}'\"\n",
    "    return {\"response\": search_result}"
   ],
   "metadata": {
    "collapsed": false,
    "ExecuteTime": {
     "end_time": "2024-10-27T14:25:21.558675Z",
     "start_time": "2024-10-27T14:25:21.556731Z"
    }
   },
   "id": "3729ba199b62d717",
   "execution_count": 15
  },
  {
   "cell_type": "code",
   "outputs": [
    {
     "data": {
      "text/plain": "<langgraph.graph.state.StateGraph at 0x108e366c0>"
     },
     "execution_count": 16,
     "metadata": {},
     "output_type": "execute_result"
    }
   ],
   "source": [
    "graph.add_node(\"classify_input\", classify_input_node)\n",
    "graph.add_node(\"handle_greeting\", handle_greeting_node)\n",
    "graph.add_node(\"handle_search\", handle_search_node)\n",
    "\n",
    "def decide_next_node(state):\n",
    "    return \"handle_greeting\" if state.get('classification') == \"greeting\" else \"handle_search\"\n",
    "graph.add_conditional_edges(\n",
    "    \"classify_input\",\n",
    "    decide_next_node,\n",
    "    {\n",
    "        \"handle_greeting\": \"handle_greeting\",\n",
    "        \"handle_search\": \"handle_search\"\n",
    "    }\n",
    ")"
   ],
   "metadata": {
    "collapsed": false,
    "ExecuteTime": {
     "end_time": "2024-10-27T14:25:21.562322Z",
     "start_time": "2024-10-27T14:25:21.559256Z"
    }
   },
   "id": "be61b4bd8cee663c",
   "execution_count": 16
  },
  {
   "cell_type": "code",
   "outputs": [],
   "source": [
    "from langgraph.constants import END\n",
    "\n",
    "graph.set_entry_point(\"classify_input\")\n",
    "graph.add_edge('handle_greeting', END)\n",
    "graph.add_edge('handle_search', END)\n",
    "graph = graph.compile()"
   ],
   "metadata": {
    "collapsed": false,
    "ExecuteTime": {
     "end_time": "2024-10-27T14:25:21.564798Z",
     "start_time": "2024-10-27T14:25:21.562971Z"
    }
   },
   "id": "61cd9777b29e97ff",
   "execution_count": 17
  },
  {
   "cell_type": "code",
   "outputs": [
    {
     "name": "stdout",
     "output_type": "stream",
     "text": [
      "{'question': 'Hello, how are you?', 'classification': 'handle_search', 'response': \"Search result for 'Hello, how are you?'\"}\n"
     ]
    }
   ],
   "source": [
    "inputs = {\"question\": \"Hello, how are you?\"}\n",
    "result = graph.invoke(inputs)\n",
    "print(result)"
   ],
   "metadata": {
    "collapsed": false,
    "ExecuteTime": {
     "end_time": "2024-10-27T14:25:21.568163Z",
     "start_time": "2024-10-27T14:25:21.565320Z"
    }
   },
   "id": "d7fdc68d2cac958c",
   "execution_count": 18
  },
  {
   "cell_type": "code",
   "outputs": [
    {
     "data": {
      "image/jpeg": "[encoded data removed]",
      "text/plain": "<IPython.core.display.Image object>"
     },
     "metadata": {},
     "output_type": "display_data"
    }
   ],
   "source": [
    "from IPython.display import Image, display\n",
    "\n",
    "try:\n",
    "    display(Image(graph.get_graph().draw_mermaid_png()))\n",
    "except Exception:\n",
    "    # This requires some extra dependencies and is optional\n",
    "    pass"
   ],
   "metadata": {
    "collapsed": false,
    "ExecuteTime": {
     "end_time": "2024-10-27T14:25:21.672394Z",
     "start_time": "2024-10-27T14:25:21.568702Z"
    }
   },
   "id": "20530261b5b0e343",
   "execution_count": 19
  },
  {
   "cell_type": "code",
   "outputs": [],
   "source": [],
   "metadata": {
    "collapsed": false,
    "ExecuteTime": {
     "end_time": "2024-10-27T14:25:21.675293Z",
     "start_time": "2024-10-27T14:25:21.674074Z"
    }
   },
   "id": "1a18936bf006f60",
   "execution_count": 19
  }
 ],
 "metadata": {
  "kernelspec": {
   "display_name": "Python 3",
   "language": "python",
   "name": "python3"
  },
  "language_info": {
   "codemirror_mode": {
    "name": "ipython",
    "version": 2
   },
   "file_extension": ".py",
   "mimetype": "text/x-python",
   "name": "python",
   "nbconvert_exporter": "python",
   "pygments_lexer": "ipython2",
   "version": "2.7.6"
  }
 },
 "nbformat": 4,
 "nbformat_minor": 5
}
