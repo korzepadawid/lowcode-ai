{
 "cells": [
  {
   "cell_type": "code",
   "execution_count": 54,
   "id": "initial_id",
   "metadata": {
    "collapsed": true,
    "ExecuteTime": {
     "end_time": "2024-10-27T14:24:30.973403Z",
     "start_time": "2024-10-27T14:24:29.705047Z"
    }
   },
   "outputs": [],
   "source": [
    "%%capture --no-stderr\n",
    "%pip install -U langgraph langsmith langchain-openai"
   ]
  },
  {
   "cell_type": "code",
   "outputs": [],
   "source": [
    "from langgraph.graph import StateGraph, START, END\n",
    "from typing import TypedDict, Optional"
   ],
   "metadata": {
    "collapsed": false,
    "ExecuteTime": {
     "end_time": "2024-10-27T14:24:30.976464Z",
     "start_time": "2024-10-27T14:24:30.974616Z"
    }
   },
   "id": "c5fb46b2c680f31c",
   "execution_count": 55
  },
  {
   "cell_type": "code",
   "outputs": [],
   "source": [
    "class GraphState(TypedDict):\n",
    "    question: Optional[str]\n",
    "    classification: Optional[str]\n",
    "    response: Optional[str]"
   ],
   "metadata": {
    "collapsed": false,
    "ExecuteTime": {
     "end_time": "2024-10-27T14:24:30.978819Z",
     "start_time": "2024-10-27T14:24:30.977071Z"
    }
   },
   "id": "28d43cf649ac5c6",
   "execution_count": 56
  },
  {
   "cell_type": "code",
   "outputs": [],
   "source": [
    "graph = StateGraph(GraphState)"
   ],
   "metadata": {
    "collapsed": false,
    "ExecuteTime": {
     "end_time": "2024-10-27T14:24:30.981727Z",
     "start_time": "2024-10-27T14:24:30.979985Z"
    }
   },
   "id": "aba70fcb9a68e1de",
   "execution_count": 57
  },
  {
   "cell_type": "code",
   "outputs": [],
   "source": [
    "def query_csi_rag_docs(query: str) -> GraphState:\n",
    "    pass\n",
    "\n",
    "\n",
    "def classify_prompt(node: StateGraph) -> GraphState:\n",
    "    pass\n",
    "\n",
    "\n",
    "def call_csi_rag(node: StateGraph) -> GraphState:\n",
    "    pass\n",
    "\n",
    "\n",
    "def translate_eng_to_pl(state: GraphState) -> GraphState:\n",
    "    pass\n",
    "\n",
    "\n",
    "def translate_pl_to_eng(state: GraphState) -> GraphState:\n",
    "    pass\n",
    "\n",
    "\n",
    "def generate_validation(state: GraphState) -> GraphState:\n",
    "    pass\n",
    "\n",
    "\n",
    "def generate_rule(state: GraphState) -> GraphState:\n",
    "    pass\n",
    "\n",
    "\n",
    "def decide_code_gen_type(state: GraphState) -> str:\n",
    "    return \"generate_validation\"\n",
    "\n",
    "\n",
    "def decide_is_docs_query(state: GraphState) -> str:\n",
    "    return \"generate_validation\""
   ],
   "metadata": {
    "collapsed": false,
    "ExecuteTime": {
     "end_time": "2024-10-27T14:24:30.984338Z",
     "start_time": "2024-10-27T14:24:30.982382Z"
    }
   },
   "id": "7ced5db6ed58f29a",
   "execution_count": 58
  },
  {
   "cell_type": "code",
   "outputs": [
    {
     "data": {
      "text/plain": "<langgraph.graph.state.StateGraph at 0x10ad432c0>"
     },
     "execution_count": 59,
     "metadata": {},
     "output_type": "execute_result"
    }
   ],
   "source": [
    "graph.add_node(\"query_csi_rag_docs\", query_csi_rag_docs)\n",
    "graph.add_node(\"classify_prompt\", classify_prompt)\n",
    "graph.add_node(\"call_csi_rag\", call_csi_rag)\n",
    "graph.add_node(\"translate_pl_to_eng\", translate_pl_to_eng)\n",
    "graph.add_node(\"generate_validation\", generate_validation)\n",
    "graph.add_node(\"generate_rule\", generate_rule)\n",
    "graph.add_node(\"translate_eng_to_pl\", translate_eng_to_pl)\n",
    "graph.add_node(\"classify_code_gen\", decide_code_gen_type)"
   ],
   "metadata": {
    "collapsed": false,
    "ExecuteTime": {
     "end_time": "2024-10-27T14:24:30.987459Z",
     "start_time": "2024-10-27T14:24:30.984956Z"
    }
   },
   "id": "3dc8d1c92f1f6961",
   "execution_count": 59
  },
  {
   "cell_type": "code",
   "outputs": [
    {
     "data": {
      "text/plain": "<langgraph.graph.state.StateGraph at 0x10ad432c0>"
     },
     "execution_count": 60,
     "metadata": {},
     "output_type": "execute_result"
    }
   ],
   "source": [
    "graph.add_conditional_edges(\n",
    "    \"classify_code_gen\",\n",
    "    decide_code_gen_type,\n",
    "    {\n",
    "        \"generate_validation\": \"generate_validation\",\n",
    "        \"generate_rule\": \"generate_rule\",\n",
    "    }\n",
    ")\n",
    "\n",
    "graph.add_conditional_edges(\n",
    "    \"classify_prompt\",\n",
    "    decide_is_docs_query,\n",
    "    {\n",
    "        \"translate_pl_to_eng\": \"translate_pl_to_eng\",\n",
    "        \"call_csi_rag\": \"call_csi_rag\"\n",
    "    }\n",
    ")\n",
    "\n",
    "graph.add_conditional_edges(\n",
    "    \"generate_rule\",\n",
    "    query_csi_rag_docs,\n",
    "    {\n",
    "        \"query_csi_rag_docs\": \"query_csi_rag_docs\",\n",
    "        \"translate_eng_to_pl\": \"translate_eng_to_pl\"\n",
    "    },\n",
    ")"
   ],
   "metadata": {
    "collapsed": false,
    "ExecuteTime": {
     "end_time": "2024-10-27T14:24:30.990307Z",
     "start_time": "2024-10-27T14:24:30.987960Z"
    }
   },
   "id": "56bdb91c185a5ba8",
   "execution_count": 60
  },
  {
   "cell_type": "code",
   "outputs": [
    {
     "data": {
      "text/plain": "<langgraph.graph.state.StateGraph at 0x10ad432c0>"
     },
     "execution_count": 61,
     "metadata": {},
     "output_type": "execute_result"
    }
   ],
   "source": [
    "graph.add_edge(START, \"classify_prompt\")\n",
    "graph.add_edge(\"translate_pl_to_eng\", \"classify_code_gen\")\n",
    "graph.add_edge(\"generate_validation\", \"translate_eng_to_pl\")\n",
    "graph.add_edge(\"query_csi_rag_docs\", \"generate_rule\")\n",
    "graph.add_edge(\"translate_eng_to_pl\", END)\n",
    "graph.add_edge(\"call_csi_rag\", END)"
   ],
   "metadata": {
    "collapsed": false,
    "ExecuteTime": {
     "end_time": "2024-10-27T14:24:30.992722Z",
     "start_time": "2024-10-27T14:24:30.990810Z"
    }
   },
   "id": "38adaae26bb76249",
   "execution_count": 61
  },
  {
   "cell_type": "code",
   "outputs": [],
   "source": [
    "graph = graph.compile()"
   ],
   "metadata": {
    "collapsed": false,
    "ExecuteTime": {
     "end_time": "2024-10-27T14:24:30.994923Z",
     "start_time": "2024-10-27T14:24:30.993248Z"
    }
   },
   "id": "66505088e3327aab",
   "execution_count": 62
  },
  {
   "cell_type": "code",
   "outputs": [],
   "source": [
    "def draw_graph(graph):\n",
    "    from IPython.display import Image, display\n",
    "    try:\n",
    "        display(Image(graph.get_graph().draw_mermaid_png()))\n",
    "    except Exception:\n",
    "        pass"
   ],
   "metadata": {
    "collapsed": false,
    "ExecuteTime": {
     "end_time": "2024-10-27T14:24:30.997832Z",
     "start_time": "2024-10-27T14:24:30.996389Z"
    }
   },
   "id": "3eee89e45780f2e0",
   "execution_count": 63
  },
  {
   "cell_type": "code",
   "outputs": [
    {
     "data": {
      "image/jpeg": "[encoded data removed]",
      "text/plain": "<IPython.core.display.Image object>"
     },
     "metadata": {},
     "output_type": "display_data"
    }
   ],
   "source": [
    "draw_graph(graph)"
   ],
   "metadata": {
    "collapsed": false,
    "ExecuteTime": {
     "end_time": "2024-10-27T14:24:31.644471Z",
     "start_time": "2024-10-27T14:24:30.998294Z"
    }
   },
   "id": "99610cf5b9b51d61",
   "execution_count": 64
  },
  {
   "cell_type": "code",
   "outputs": [],
   "source": [],
   "metadata": {
    "collapsed": false,
    "ExecuteTime": {
     "end_time": "2024-10-27T14:24:31.650157Z",
     "start_time": "2024-10-27T14:24:31.646837Z"
    }
   },
   "id": "3ff17a9f985de689",
   "execution_count": 64
  }
 ],
 "metadata": {
  "kernelspec": {
   "display_name": "Python 3",
   "language": "python",
   "name": "python3"
  },
  "language_info": {
   "codemirror_mode": {
    "name": "ipython",
    "version": 2
   },
   "file_extension": ".py",
   "mimetype": "text/x-python",
   "name": "python",
   "nbconvert_exporter": "python",
   "pygments_lexer": "ipython2",
   "version": "2.7.6"
  }
 },
 "nbformat": 4,
 "nbformat_minor": 5
}
