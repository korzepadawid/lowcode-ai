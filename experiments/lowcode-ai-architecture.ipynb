{
 "cells": [
  {
   "cell_type": "code",
   "execution_count": 85,
   "id": "initial_id",
   "metadata": {
    "collapsed": true,
    "ExecuteTime": {
     "end_time": "2024-10-27T11:21:03.307321Z",
     "start_time": "2024-10-27T11:21:01.975209Z"
    }
   },
   "outputs": [],
   "source": [
    "%%capture --no-stderr\n",
    "%pip install -U langgraph langsmith langchain-openai"
   ]
  },
  {
   "cell_type": "code",
   "outputs": [],
   "source": [
    "from langgraph.graph import StateGraph, START, END\n",
    "from typing import TypedDict, Optional"
   ],
   "metadata": {
    "collapsed": false,
    "ExecuteTime": {
     "end_time": "2024-10-27T11:21:03.310880Z",
     "start_time": "2024-10-27T11:21:03.308680Z"
    }
   },
   "id": "c5fb46b2c680f31c",
   "execution_count": 86
  },
  {
   "cell_type": "code",
   "outputs": [],
   "source": [
    "class GraphState(TypedDict):\n",
    "    question: Optional[str] \n",
    "    classification: Optional[str]\n",
    "    response: Optional[str]"
   ],
   "metadata": {
    "collapsed": false,
    "ExecuteTime": {
     "end_time": "2024-10-27T11:21:03.313373Z",
     "start_time": "2024-10-27T11:21:03.311647Z"
    }
   },
   "id": "28d43cf649ac5c6",
   "execution_count": 87
  },
  {
   "cell_type": "code",
   "outputs": [],
   "source": [
    "graph = StateGraph(GraphState)"
   ],
   "metadata": {
    "collapsed": false,
    "ExecuteTime": {
     "end_time": "2024-10-27T11:21:03.315997Z",
     "start_time": "2024-10-27T11:21:03.314473Z"
    }
   },
   "id": "aba70fcb9a68e1de",
   "execution_count": 88
  },
  {
   "cell_type": "code",
   "outputs": [],
   "source": [
    "def translate_eng_to_pl(state: GraphState) -> GraphState:\n",
    "    pass\n",
    "\n",
    "def translate_pl_to_eng(state: GraphState) -> GraphState:\n",
    "    pass\n",
    "\n",
    "def generate_validation(state: GraphState) -> GraphState:\n",
    "    pass\n",
    "\n",
    "def generate_rule(state: GraphState) -> GraphState:\n",
    "    pass\n",
    "\n",
    "def decide_code_gen_type(state: GraphState) -> str:\n",
    "    return \"generate_validation\""
   ],
   "metadata": {
    "collapsed": false,
    "ExecuteTime": {
     "end_time": "2024-10-27T11:21:03.319388Z",
     "start_time": "2024-10-27T11:21:03.316597Z"
    }
   },
   "id": "7ced5db6ed58f29a",
   "execution_count": 89
  },
  {
   "cell_type": "code",
   "outputs": [
    {
     "data": {
      "text/plain": "<langgraph.graph.state.StateGraph at 0x10cc90b00>"
     },
     "execution_count": 90,
     "metadata": {},
     "output_type": "execute_result"
    }
   ],
   "source": [
    "graph.add_node(\"translate_pl_to_eng\", translate_pl_to_eng)\n",
    "graph.add_node(\"generate_validation\", generate_validation)\n",
    "graph.add_node(\"generate_rule\", generate_rule)\n",
    "graph.add_node(\"translate_eng_to_pl\", translate_eng_to_pl)\n",
    "graph.add_node(\"classify_code_gen\", decide_code_gen_type)"
   ],
   "metadata": {
    "collapsed": false,
    "ExecuteTime": {
     "end_time": "2024-10-27T11:21:03.322242Z",
     "start_time": "2024-10-27T11:21:03.319939Z"
    }
   },
   "id": "3dc8d1c92f1f6961",
   "execution_count": 90
  },
  {
   "cell_type": "code",
   "outputs": [
    {
     "data": {
      "text/plain": "<langgraph.graph.state.StateGraph at 0x10cc90b00>"
     },
     "execution_count": 91,
     "metadata": {},
     "output_type": "execute_result"
    }
   ],
   "source": [
    "graph.add_conditional_edges(\n",
    "    \"classify_code_gen\", \n",
    "    decide_code_gen_type, \n",
    "    {\n",
    "        \"generate_validation\": \"generate_validation\",\n",
    "        \"generate_rule\": \"generate_rule\",\n",
    "    }\n",
    ")"
   ],
   "metadata": {
    "collapsed": false,
    "ExecuteTime": {
     "end_time": "2024-10-27T11:21:03.324643Z",
     "start_time": "2024-10-27T11:21:03.322841Z"
    }
   },
   "id": "56bdb91c185a5ba8",
   "execution_count": 91
  },
  {
   "cell_type": "code",
   "outputs": [
    {
     "data": {
      "text/plain": "<langgraph.graph.state.StateGraph at 0x10cc90b00>"
     },
     "execution_count": 92,
     "metadata": {},
     "output_type": "execute_result"
    }
   ],
   "source": [
    "graph.add_edge(START, \"translate_pl_to_eng\")\n",
    "graph.add_edge(\"translate_pl_to_eng\", \"classify_code_gen\")\n",
    "graph.add_edge(\"generate_rule\", \"translate_eng_to_pl\")\n",
    "graph.add_edge(\"generate_validation\", \"translate_eng_to_pl\")\n",
    "graph.add_edge(\"translate_eng_to_pl\", END)"
   ],
   "metadata": {
    "collapsed": false,
    "ExecuteTime": {
     "end_time": "2024-10-27T11:21:03.327129Z",
     "start_time": "2024-10-27T11:21:03.325155Z"
    }
   },
   "id": "38adaae26bb76249",
   "execution_count": 92
  },
  {
   "cell_type": "code",
   "outputs": [],
   "source": [
    "graph = graph.compile()"
   ],
   "metadata": {
    "collapsed": false,
    "ExecuteTime": {
     "end_time": "2024-10-27T11:21:03.329542Z",
     "start_time": "2024-10-27T11:21:03.327771Z"
    }
   },
   "id": "66505088e3327aab",
   "execution_count": 93
  },
  {
   "cell_type": "code",
   "outputs": [
    {
     "data": {
      "image/jpeg": "[encoded data removed]",
      "text/plain": "<IPython.core.display.Image object>"
     },
     "metadata": {},
     "output_type": "display_data"
    }
   ],
   "source": [
    "from IPython.display import Image, display\n",
    "\n",
    "try:\n",
    "    display(Image(graph.get_graph().draw_mermaid_png()))\n",
    "except Exception:\n",
    "    pass"
   ],
   "metadata": {
    "collapsed": false,
    "ExecuteTime": {
     "end_time": "2024-10-27T11:21:04.010682Z",
     "start_time": "2024-10-27T11:21:03.331049Z"
    }
   },
   "id": "3eee89e45780f2e0",
   "execution_count": 94
  },
  {
   "cell_type": "code",
   "outputs": [],
   "source": [],
   "metadata": {
    "collapsed": false,
    "ExecuteTime": {
     "end_time": "2024-10-27T11:21:04.012804Z",
     "start_time": "2024-10-27T11:21:04.011322Z"
    }
   },
   "id": "99610cf5b9b51d61",
   "execution_count": 94
  }
 ],
 "metadata": {
  "kernelspec": {
   "display_name": "Python 3",
   "language": "python",
   "name": "python3"
  },
  "language_info": {
   "codemirror_mode": {
    "name": "ipython",
    "version": 2
   },
   "file_extension": ".py",
   "mimetype": "text/x-python",
   "name": "python",
   "nbconvert_exporter": "python",
   "pygments_lexer": "ipython2",
   "version": "2.7.6"
  }
 },
 "nbformat": 4,
 "nbformat_minor": 5
}
