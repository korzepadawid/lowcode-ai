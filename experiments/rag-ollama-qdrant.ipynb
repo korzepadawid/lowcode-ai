{
 "cells": [
  {
   "cell_type": "code",
   "outputs": [
    {
     "name": "stdout",
     "output_type": "stream",
     "text": [
      "Requirement already satisfied: datasets in /Users/dawidkorzepa/repos/lowcode-ai/env/lib/python3.12/site-packages (3.0.0)\r\n",
      "Requirement already satisfied: filelock in /Users/dawidkorzepa/repos/lowcode-ai/env/lib/python3.12/site-packages (from datasets) (3.16.1)\r\n",
      "Requirement already satisfied: numpy>=1.17 in /Users/dawidkorzepa/repos/lowcode-ai/env/lib/python3.12/site-packages (from datasets) (1.26.4)\r\n",
      "Requirement already satisfied: pyarrow>=15.0.0 in /Users/dawidkorzepa/repos/lowcode-ai/env/lib/python3.12/site-packages (from datasets) (17.0.0)\r\n",
      "Requirement already satisfied: dill<0.3.9,>=0.3.0 in /Users/dawidkorzepa/repos/lowcode-ai/env/lib/python3.12/site-packages (from datasets) (0.3.8)\r\n",
      "Requirement already satisfied: pandas in /Users/dawidkorzepa/repos/lowcode-ai/env/lib/python3.12/site-packages (from datasets) (2.2.2)\r\n",
      "Requirement already satisfied: requests>=2.32.2 in /Users/dawidkorzepa/repos/lowcode-ai/env/lib/python3.12/site-packages (from datasets) (2.32.3)\r\n",
      "Requirement already satisfied: tqdm>=4.66.3 in /Users/dawidkorzepa/repos/lowcode-ai/env/lib/python3.12/site-packages (from datasets) (4.66.5)\r\n",
      "Requirement already satisfied: xxhash in /Users/dawidkorzepa/repos/lowcode-ai/env/lib/python3.12/site-packages (from datasets) (3.5.0)\r\n",
      "Requirement already satisfied: multiprocess in /Users/dawidkorzepa/repos/lowcode-ai/env/lib/python3.12/site-packages (from datasets) (0.70.16)\r\n",
      "Requirement already satisfied: fsspec<=2024.6.1,>=2023.1.0 in /Users/dawidkorzepa/repos/lowcode-ai/env/lib/python3.12/site-packages (from fsspec[http]<=2024.6.1,>=2023.1.0->datasets) (2024.6.1)\r\n",
      "Requirement already satisfied: aiohttp in /Users/dawidkorzepa/repos/lowcode-ai/env/lib/python3.12/site-packages (from datasets) (3.10.5)\r\n",
      "Requirement already satisfied: huggingface-hub>=0.22.0 in /Users/dawidkorzepa/repos/lowcode-ai/env/lib/python3.12/site-packages (from datasets) (0.25.0)\r\n",
      "Requirement already satisfied: packaging in /Users/dawidkorzepa/repos/lowcode-ai/env/lib/python3.12/site-packages (from datasets) (24.1)\r\n",
      "Requirement already satisfied: pyyaml>=5.1 in /Users/dawidkorzepa/repos/lowcode-ai/env/lib/python3.12/site-packages (from datasets) (6.0.2)\r\n",
      "Requirement already satisfied: aiohappyeyeballs>=2.3.0 in /Users/dawidkorzepa/repos/lowcode-ai/env/lib/python3.12/site-packages (from aiohttp->datasets) (2.4.0)\r\n",
      "Requirement already satisfied: aiosignal>=1.1.2 in /Users/dawidkorzepa/repos/lowcode-ai/env/lib/python3.12/site-packages (from aiohttp->datasets) (1.3.1)\r\n",
      "Requirement already satisfied: attrs>=17.3.0 in /Users/dawidkorzepa/repos/lowcode-ai/env/lib/python3.12/site-packages (from aiohttp->datasets) (24.2.0)\r\n",
      "Requirement already satisfied: frozenlist>=1.1.1 in /Users/dawidkorzepa/repos/lowcode-ai/env/lib/python3.12/site-packages (from aiohttp->datasets) (1.4.1)\r\n",
      "Requirement already satisfied: multidict<7.0,>=4.5 in /Users/dawidkorzepa/repos/lowcode-ai/env/lib/python3.12/site-packages (from aiohttp->datasets) (6.1.0)\r\n",
      "Requirement already satisfied: yarl<2.0,>=1.0 in /Users/dawidkorzepa/repos/lowcode-ai/env/lib/python3.12/site-packages (from aiohttp->datasets) (1.11.1)\r\n",
      "Requirement already satisfied: typing-extensions>=3.7.4.3 in /Users/dawidkorzepa/repos/lowcode-ai/env/lib/python3.12/site-packages (from huggingface-hub>=0.22.0->datasets) (4.12.2)\r\n",
      "Requirement already satisfied: charset-normalizer<4,>=2 in /Users/dawidkorzepa/repos/lowcode-ai/env/lib/python3.12/site-packages (from requests>=2.32.2->datasets) (3.3.2)\r\n",
      "Requirement already satisfied: idna<4,>=2.5 in /Users/dawidkorzepa/repos/lowcode-ai/env/lib/python3.12/site-packages (from requests>=2.32.2->datasets) (3.10)\r\n",
      "Requirement already satisfied: urllib3<3,>=1.21.1 in /Users/dawidkorzepa/repos/lowcode-ai/env/lib/python3.12/site-packages (from requests>=2.32.2->datasets) (2.2.3)\r\n",
      "Requirement already satisfied: certifi>=2017.4.17 in /Users/dawidkorzepa/repos/lowcode-ai/env/lib/python3.12/site-packages (from requests>=2.32.2->datasets) (2024.8.30)\r\n",
      "Requirement already satisfied: python-dateutil>=2.8.2 in /Users/dawidkorzepa/repos/lowcode-ai/env/lib/python3.12/site-packages (from pandas->datasets) (2.9.0.post0)\r\n",
      "Requirement already satisfied: pytz>=2020.1 in /Users/dawidkorzepa/repos/lowcode-ai/env/lib/python3.12/site-packages (from pandas->datasets) (2024.2)\r\n",
      "Requirement already satisfied: tzdata>=2022.7 in /Users/dawidkorzepa/repos/lowcode-ai/env/lib/python3.12/site-packages (from pandas->datasets) (2024.1)\r\n",
      "Requirement already satisfied: six>=1.5 in /Users/dawidkorzepa/repos/lowcode-ai/env/lib/python3.12/site-packages (from python-dateutil>=2.8.2->pandas->datasets) (1.16.0)\r\n",
      "\r\n",
      "\u001B[1m[\u001B[0m\u001B[34;49mnotice\u001B[0m\u001B[1;39;49m]\u001B[0m\u001B[39;49m A new release of pip is available: \u001B[0m\u001B[31;49m24.0\u001B[0m\u001B[39;49m -> \u001B[0m\u001B[32;49m24.2\u001B[0m\r\n",
      "\u001B[1m[\u001B[0m\u001B[34;49mnotice\u001B[0m\u001B[1;39;49m]\u001B[0m\u001B[39;49m To update, run: \u001B[0m\u001B[32;49mpip install --upgrade pip\u001B[0m\r\n",
      "Requirement already satisfied: faiss-cpu in /Users/dawidkorzepa/repos/lowcode-ai/env/lib/python3.12/site-packages (1.8.0.post1)\r\n",
      "Requirement already satisfied: numpy<2.0,>=1.0 in /Users/dawidkorzepa/repos/lowcode-ai/env/lib/python3.12/site-packages (from faiss-cpu) (1.26.4)\r\n",
      "Requirement already satisfied: packaging in /Users/dawidkorzepa/repos/lowcode-ai/env/lib/python3.12/site-packages (from faiss-cpu) (24.1)\r\n",
      "\r\n",
      "\u001B[1m[\u001B[0m\u001B[34;49mnotice\u001B[0m\u001B[1;39;49m]\u001B[0m\u001B[39;49m A new release of pip is available: \u001B[0m\u001B[31;49m24.0\u001B[0m\u001B[39;49m -> \u001B[0m\u001B[32;49m24.2\u001B[0m\r\n",
      "\u001B[1m[\u001B[0m\u001B[34;49mnotice\u001B[0m\u001B[1;39;49m]\u001B[0m\u001B[39;49m To update, run: \u001B[0m\u001B[32;49mpip install --upgrade pip\u001B[0m\r\n",
      "Requirement already satisfied: ollama in /Users/dawidkorzepa/repos/lowcode-ai/env/lib/python3.12/site-packages (0.3.3)\r\n",
      "Requirement already satisfied: httpx<0.28.0,>=0.27.0 in /Users/dawidkorzepa/repos/lowcode-ai/env/lib/python3.12/site-packages (from ollama) (0.27.2)\r\n",
      "Requirement already satisfied: anyio in /Users/dawidkorzepa/repos/lowcode-ai/env/lib/python3.12/site-packages (from httpx<0.28.0,>=0.27.0->ollama) (4.5.0)\r\n",
      "Requirement already satisfied: certifi in /Users/dawidkorzepa/repos/lowcode-ai/env/lib/python3.12/site-packages (from httpx<0.28.0,>=0.27.0->ollama) (2024.8.30)\r\n",
      "Requirement already satisfied: httpcore==1.* in /Users/dawidkorzepa/repos/lowcode-ai/env/lib/python3.12/site-packages (from httpx<0.28.0,>=0.27.0->ollama) (1.0.5)\r\n",
      "Requirement already satisfied: idna in /Users/dawidkorzepa/repos/lowcode-ai/env/lib/python3.12/site-packages (from httpx<0.28.0,>=0.27.0->ollama) (3.10)\r\n",
      "Requirement already satisfied: sniffio in /Users/dawidkorzepa/repos/lowcode-ai/env/lib/python3.12/site-packages (from httpx<0.28.0,>=0.27.0->ollama) (1.3.1)\r\n",
      "Requirement already satisfied: h11<0.15,>=0.13 in /Users/dawidkorzepa/repos/lowcode-ai/env/lib/python3.12/site-packages (from httpcore==1.*->httpx<0.28.0,>=0.27.0->ollama) (0.14.0)\r\n",
      "\r\n",
      "\u001B[1m[\u001B[0m\u001B[34;49mnotice\u001B[0m\u001B[1;39;49m]\u001B[0m\u001B[39;49m A new release of pip is available: \u001B[0m\u001B[31;49m24.0\u001B[0m\u001B[39;49m -> \u001B[0m\u001B[32;49m24.2\u001B[0m\r\n",
      "\u001B[1m[\u001B[0m\u001B[34;49mnotice\u001B[0m\u001B[1;39;49m]\u001B[0m\u001B[39;49m To update, run: \u001B[0m\u001B[32;49mpip install --upgrade pip\u001B[0m\r\n",
      "\r\n",
      "\u001B[1m[\u001B[0m\u001B[34;49mnotice\u001B[0m\u001B[1;39;49m]\u001B[0m\u001B[39;49m A new release of pip is available: \u001B[0m\u001B[31;49m24.0\u001B[0m\u001B[39;49m -> \u001B[0m\u001B[32;49m24.2\u001B[0m\r\n",
      "\u001B[1m[\u001B[0m\u001B[34;49mnotice\u001B[0m\u001B[1;39;49m]\u001B[0m\u001B[39;49m To update, run: \u001B[0m\u001B[32;49mpip install --upgrade pip\u001B[0m\r\n"
     ]
    }
   ],
   "source": [
    "!pip install datasets\n",
    "!pip install faiss-cpu\n",
    "!pip install ollama\n",
    "!pip install -qU langchain-qdrant"
   ],
   "metadata": {
    "collapsed": false,
    "ExecuteTime": {
     "end_time": "2024-09-21T16:28:19.658333Z",
     "start_time": "2024-09-21T16:28:15.744150Z"
    }
   },
   "id": "659beb12c9fe24af",
   "execution_count": 27
  },
  {
   "cell_type": "code",
   "outputs": [
    {
     "name": "stdout",
     "output_type": "stream",
     "text": [
      "NAME                   \tID          \tSIZE  \tMODIFIED   \r\n",
      "nomic-embed-text:latest\t0a109f422b47\t274 MB\t2 days ago\t\r\n",
      "llama3.1:latest        \t42182419e950\t4.7 GB\t3 days ago\t\r\n"
     ]
    }
   ],
   "source": [
    "!ollama list"
   ],
   "metadata": {
    "collapsed": false,
    "ExecuteTime": {
     "end_time": "2024-09-21T16:28:19.797015Z",
     "start_time": "2024-09-21T16:28:19.659386Z"
    }
   },
   "id": "495360cac0edc6a8",
   "execution_count": 28
  },
  {
   "cell_type": "code",
   "outputs": [
    {
     "name": "stdout",
     "output_type": "stream",
     "text": [
      "Requirement already satisfied: langchain-community in /Users/dawidkorzepa/repos/lowcode-ai/env/lib/python3.12/site-packages (0.3.0)\r\n",
      "Requirement already satisfied: PyYAML>=5.3 in /Users/dawidkorzepa/repos/lowcode-ai/env/lib/python3.12/site-packages (from langchain-community) (6.0.2)\r\n",
      "Requirement already satisfied: SQLAlchemy<3,>=1.4 in /Users/dawidkorzepa/repos/lowcode-ai/env/lib/python3.12/site-packages (from langchain-community) (2.0.35)\r\n",
      "Requirement already satisfied: aiohttp<4.0.0,>=3.8.3 in /Users/dawidkorzepa/repos/lowcode-ai/env/lib/python3.12/site-packages (from langchain-community) (3.10.5)\r\n",
      "Requirement already satisfied: dataclasses-json<0.7,>=0.5.7 in /Users/dawidkorzepa/repos/lowcode-ai/env/lib/python3.12/site-packages (from langchain-community) (0.6.7)\r\n",
      "Requirement already satisfied: langchain<0.4.0,>=0.3.0 in /Users/dawidkorzepa/repos/lowcode-ai/env/lib/python3.12/site-packages (from langchain-community) (0.3.0)\r\n",
      "Requirement already satisfied: langchain-core<0.4.0,>=0.3.0 in /Users/dawidkorzepa/repos/lowcode-ai/env/lib/python3.12/site-packages (from langchain-community) (0.3.1)\r\n",
      "Requirement already satisfied: langsmith<0.2.0,>=0.1.112 in /Users/dawidkorzepa/repos/lowcode-ai/env/lib/python3.12/site-packages (from langchain-community) (0.1.123)\r\n",
      "Requirement already satisfied: numpy<2.0.0,>=1.26.0 in /Users/dawidkorzepa/repos/lowcode-ai/env/lib/python3.12/site-packages (from langchain-community) (1.26.4)\r\n",
      "Requirement already satisfied: pydantic-settings<3.0.0,>=2.4.0 in /Users/dawidkorzepa/repos/lowcode-ai/env/lib/python3.12/site-packages (from langchain-community) (2.5.2)\r\n",
      "Requirement already satisfied: requests<3,>=2 in /Users/dawidkorzepa/repos/lowcode-ai/env/lib/python3.12/site-packages (from langchain-community) (2.32.3)\r\n",
      "Requirement already satisfied: tenacity!=8.4.0,<9.0.0,>=8.1.0 in /Users/dawidkorzepa/repos/lowcode-ai/env/lib/python3.12/site-packages (from langchain-community) (8.5.0)\r\n",
      "Requirement already satisfied: aiohappyeyeballs>=2.3.0 in /Users/dawidkorzepa/repos/lowcode-ai/env/lib/python3.12/site-packages (from aiohttp<4.0.0,>=3.8.3->langchain-community) (2.4.0)\r\n",
      "Requirement already satisfied: aiosignal>=1.1.2 in /Users/dawidkorzepa/repos/lowcode-ai/env/lib/python3.12/site-packages (from aiohttp<4.0.0,>=3.8.3->langchain-community) (1.3.1)\r\n",
      "Requirement already satisfied: attrs>=17.3.0 in /Users/dawidkorzepa/repos/lowcode-ai/env/lib/python3.12/site-packages (from aiohttp<4.0.0,>=3.8.3->langchain-community) (24.2.0)\r\n",
      "Requirement already satisfied: frozenlist>=1.1.1 in /Users/dawidkorzepa/repos/lowcode-ai/env/lib/python3.12/site-packages (from aiohttp<4.0.0,>=3.8.3->langchain-community) (1.4.1)\r\n",
      "Requirement already satisfied: multidict<7.0,>=4.5 in /Users/dawidkorzepa/repos/lowcode-ai/env/lib/python3.12/site-packages (from aiohttp<4.0.0,>=3.8.3->langchain-community) (6.1.0)\r\n",
      "Requirement already satisfied: yarl<2.0,>=1.0 in /Users/dawidkorzepa/repos/lowcode-ai/env/lib/python3.12/site-packages (from aiohttp<4.0.0,>=3.8.3->langchain-community) (1.11.1)\r\n",
      "Requirement already satisfied: marshmallow<4.0.0,>=3.18.0 in /Users/dawidkorzepa/repos/lowcode-ai/env/lib/python3.12/site-packages (from dataclasses-json<0.7,>=0.5.7->langchain-community) (3.22.0)\r\n",
      "Requirement already satisfied: typing-inspect<1,>=0.4.0 in /Users/dawidkorzepa/repos/lowcode-ai/env/lib/python3.12/site-packages (from dataclasses-json<0.7,>=0.5.7->langchain-community) (0.9.0)\r\n",
      "Requirement already satisfied: langchain-text-splitters<0.4.0,>=0.3.0 in /Users/dawidkorzepa/repos/lowcode-ai/env/lib/python3.12/site-packages (from langchain<0.4.0,>=0.3.0->langchain-community) (0.3.0)\r\n",
      "Requirement already satisfied: pydantic<3.0.0,>=2.7.4 in /Users/dawidkorzepa/repos/lowcode-ai/env/lib/python3.12/site-packages (from langchain<0.4.0,>=0.3.0->langchain-community) (2.9.2)\r\n",
      "Requirement already satisfied: jsonpatch<2.0,>=1.33 in /Users/dawidkorzepa/repos/lowcode-ai/env/lib/python3.12/site-packages (from langchain-core<0.4.0,>=0.3.0->langchain-community) (1.33)\r\n",
      "Requirement already satisfied: packaging<25,>=23.2 in /Users/dawidkorzepa/repos/lowcode-ai/env/lib/python3.12/site-packages (from langchain-core<0.4.0,>=0.3.0->langchain-community) (24.1)\r\n",
      "Requirement already satisfied: typing-extensions>=4.7 in /Users/dawidkorzepa/repos/lowcode-ai/env/lib/python3.12/site-packages (from langchain-core<0.4.0,>=0.3.0->langchain-community) (4.12.2)\r\n",
      "Requirement already satisfied: httpx<1,>=0.23.0 in /Users/dawidkorzepa/repos/lowcode-ai/env/lib/python3.12/site-packages (from langsmith<0.2.0,>=0.1.112->langchain-community) (0.27.2)\r\n",
      "Requirement already satisfied: orjson<4.0.0,>=3.9.14 in /Users/dawidkorzepa/repos/lowcode-ai/env/lib/python3.12/site-packages (from langsmith<0.2.0,>=0.1.112->langchain-community) (3.10.7)\r\n",
      "Requirement already satisfied: python-dotenv>=0.21.0 in /Users/dawidkorzepa/repos/lowcode-ai/env/lib/python3.12/site-packages (from pydantic-settings<3.0.0,>=2.4.0->langchain-community) (1.0.1)\r\n",
      "Requirement already satisfied: charset-normalizer<4,>=2 in /Users/dawidkorzepa/repos/lowcode-ai/env/lib/python3.12/site-packages (from requests<3,>=2->langchain-community) (3.3.2)\r\n",
      "Requirement already satisfied: idna<4,>=2.5 in /Users/dawidkorzepa/repos/lowcode-ai/env/lib/python3.12/site-packages (from requests<3,>=2->langchain-community) (3.10)\r\n",
      "Requirement already satisfied: urllib3<3,>=1.21.1 in /Users/dawidkorzepa/repos/lowcode-ai/env/lib/python3.12/site-packages (from requests<3,>=2->langchain-community) (2.2.3)\r\n",
      "Requirement already satisfied: certifi>=2017.4.17 in /Users/dawidkorzepa/repos/lowcode-ai/env/lib/python3.12/site-packages (from requests<3,>=2->langchain-community) (2024.8.30)\r\n",
      "Requirement already satisfied: anyio in /Users/dawidkorzepa/repos/lowcode-ai/env/lib/python3.12/site-packages (from httpx<1,>=0.23.0->langsmith<0.2.0,>=0.1.112->langchain-community) (4.5.0)\r\n",
      "Requirement already satisfied: httpcore==1.* in /Users/dawidkorzepa/repos/lowcode-ai/env/lib/python3.12/site-packages (from httpx<1,>=0.23.0->langsmith<0.2.0,>=0.1.112->langchain-community) (1.0.5)\r\n",
      "Requirement already satisfied: sniffio in /Users/dawidkorzepa/repos/lowcode-ai/env/lib/python3.12/site-packages (from httpx<1,>=0.23.0->langsmith<0.2.0,>=0.1.112->langchain-community) (1.3.1)\r\n",
      "Requirement already satisfied: h11<0.15,>=0.13 in /Users/dawidkorzepa/repos/lowcode-ai/env/lib/python3.12/site-packages (from httpcore==1.*->httpx<1,>=0.23.0->langsmith<0.2.0,>=0.1.112->langchain-community) (0.14.0)\r\n",
      "Requirement already satisfied: jsonpointer>=1.9 in /Users/dawidkorzepa/repos/lowcode-ai/env/lib/python3.12/site-packages (from jsonpatch<2.0,>=1.33->langchain-core<0.4.0,>=0.3.0->langchain-community) (3.0.0)\r\n",
      "Requirement already satisfied: annotated-types>=0.6.0 in /Users/dawidkorzepa/repos/lowcode-ai/env/lib/python3.12/site-packages (from pydantic<3.0.0,>=2.7.4->langchain<0.4.0,>=0.3.0->langchain-community) (0.7.0)\r\n",
      "Requirement already satisfied: pydantic-core==2.23.4 in /Users/dawidkorzepa/repos/lowcode-ai/env/lib/python3.12/site-packages (from pydantic<3.0.0,>=2.7.4->langchain<0.4.0,>=0.3.0->langchain-community) (2.23.4)\r\n",
      "Requirement already satisfied: mypy-extensions>=0.3.0 in /Users/dawidkorzepa/repos/lowcode-ai/env/lib/python3.12/site-packages (from typing-inspect<1,>=0.4.0->dataclasses-json<0.7,>=0.5.7->langchain-community) (1.0.0)\r\n",
      "\r\n",
      "\u001B[1m[\u001B[0m\u001B[34;49mnotice\u001B[0m\u001B[1;39;49m]\u001B[0m\u001B[39;49m A new release of pip is available: \u001B[0m\u001B[31;49m24.0\u001B[0m\u001B[39;49m -> \u001B[0m\u001B[32;49m24.2\u001B[0m\r\n",
      "\u001B[1m[\u001B[0m\u001B[34;49mnotice\u001B[0m\u001B[1;39;49m]\u001B[0m\u001B[39;49m To update, run: \u001B[0m\u001B[32;49mpip install --upgrade pip\u001B[0m\r\n"
     ]
    }
   ],
   "source": [
    "!pip install langchain-community"
   ],
   "metadata": {
    "collapsed": false,
    "ExecuteTime": {
     "end_time": "2024-09-21T16:28:20.764508Z",
     "start_time": "2024-09-21T16:28:19.797889Z"
    }
   },
   "id": "5cd0f46ce72f186e",
   "execution_count": 29
  },
  {
   "cell_type": "code",
   "outputs": [],
   "source": [
    "from langchain.document_loaders import HuggingFaceDatasetLoader\n",
    "from langchain.text_splitter import RecursiveCharacterTextSplitter\n",
    "from langchain_community.embeddings import OllamaEmbeddings\n",
    "from langchain_core.prompts import PromptTemplate\n",
    "from langchain_community.chat_models import ChatOllama\n",
    "from langchain_core.output_parsers import StrOutputParser\n",
    "from langchain_core.runnables import RunnablePassthrough\n",
    "from langchain.chains import create_history_aware_retriever\n",
    "from langchain_core.prompts import ChatPromptTemplate, MessagesPlaceholder\n",
    "from langchain_core.messages import HumanMessage\n",
    "from langchain.chains import create_retrieval_chain\n",
    "from langchain.chains.combine_documents import create_stuff_documents_chain\n",
    "from langchain_qdrant import QdrantVectorStore\n",
    "from qdrant_client.http.models import Distance"
   ],
   "metadata": {
    "collapsed": false,
    "ExecuteTime": {
     "end_time": "2024-09-21T16:40:58.459132Z",
     "start_time": "2024-09-21T16:40:58.453001Z"
    }
   },
   "id": "44bd9b23655033db",
   "execution_count": 50
  },
  {
   "cell_type": "code",
   "outputs": [
    {
     "data": {
      "text/plain": "[Document(metadata={'instruction': 'When did Virgin Australia start operating?', 'response': 'Virgin Australia commenced services on 31 August 2000 as Virgin Blue, with two aircraft on a single route.', 'category': 'closed_qa'}, page_content='\"Virgin Australia, the trading name of Virgin Australia Airlines Pty Ltd, is an Australian-based airline. It is the largest airline by fleet size to use the Virgin brand. It commenced services on 31 August 2000 as Virgin Blue, with two aircraft on a single route. It suddenly found itself as a major airline in Australia\\'s domestic market after the collapse of Ansett Australia in September 2001. The airline has since grown to directly serve 32 cities in Australia, from hubs in Brisbane, Melbourne and Sydney.\"'),\n Document(metadata={'instruction': 'Which is a species of fish? Tope or Rope', 'response': 'Tope', 'category': 'classification'}, page_content='\"\"')]"
     },
     "execution_count": 31,
     "metadata": {},
     "output_type": "execute_result"
    }
   ],
   "source": [
    "dataset_name = \"databricks/databricks-dolly-15k\"\n",
    "page_content_column = \"context\"  # or any other column you're interested in\n",
    "\n",
    "# Create a loader instance\n",
    "loader = HuggingFaceDatasetLoader(dataset_name, page_content_column)\n",
    "\n",
    "# Load the data\n",
    "data = loader.load()\n",
    "\n",
    "# Display the first 15 entries\n",
    "data[:2]"
   ],
   "metadata": {
    "collapsed": false,
    "ExecuteTime": {
     "end_time": "2024-09-21T16:28:22.735535Z",
     "start_time": "2024-09-21T16:28:20.769692Z"
    }
   },
   "id": "7d3067d70ebaf54b",
   "execution_count": 31
  },
  {
   "cell_type": "code",
   "outputs": [],
   "source": [
    "# Create an instance of the RecursiveCharacterTextSplitter class with specific parameters.\n",
    "# It splits text into chunks of 1000 characters each with a 150-character overlap.\n",
    "text_splitter = RecursiveCharacterTextSplitter(chunk_size=1000, chunk_overlap=150)\n",
    "\n",
    "# 'data' holds the text you want to split, split the text into documents using the text splitter.\n",
    "docs = text_splitter.split_documents(data)"
   ],
   "metadata": {
    "collapsed": false,
    "ExecuteTime": {
     "end_time": "2024-09-21T16:28:23.126468Z",
     "start_time": "2024-09-21T16:28:22.736143Z"
    }
   },
   "id": "5053fcfc3c55646f",
   "execution_count": 32
  },
  {
   "cell_type": "code",
   "outputs": [],
   "source": [
    "embedding = OllamaEmbeddings(model=\"nomic-embed-text\")"
   ],
   "metadata": {
    "collapsed": false,
    "ExecuteTime": {
     "end_time": "2024-09-21T16:28:23.128987Z",
     "start_time": "2024-09-21T16:28:23.127080Z"
    }
   },
   "id": "a0d63ad655c84074",
   "execution_count": 33
  },
  {
   "cell_type": "code",
   "outputs": [
    {
     "data": {
      "text/plain": "[-0.5979874134063721,\n 0.1774091273546219,\n -3.693427085876465,\n -0.8051135540008545,\n -0.4065955877304077,\n 0.6764993071556091,\n 0.4356774091720581,\n 0.6609154343605042,\n -0.6599831581115723,\n -1.3692622184753418,\n -0.8964322805404663,\n 0.311566025018692,\n 1.480530858039856,\n 0.3602171242237091,\n 0.672015368938446,\n 0.3034931719303131,\n -1.8650704622268677,\n -0.13666824996471405,\n 0.6001240015029907,\n 0.45960119366645813,\n -1.0374701023101807,\n -0.7831551432609558,\n -0.3398086726665497,\n 0.05481716990470886,\n 2.319247245788574,\n 0.31265100836753845,\n 0.20493808388710022,\n 0.24365833401679993,\n -0.5427579283714294,\n 0.9496626853942871,\n 0.3691500723361969,\n 0.9597890377044678,\n -1.3616770505905151,\n 0.9006558060646057,\n 0.6429985165596008,\n -0.05966632068157196,\n 0.5871962308883667,\n -0.5402980446815491,\n 0.6367090940475464,\n -0.3764284551143646,\n -0.18689873814582825,\n 0.21368439495563507,\n 1.1099529266357422,\n -1.3012080192565918,\n 0.3534037470817566,\n -0.5531500577926636,\n -0.6855080723762512,\n -0.43404221534729004,\n 0.07330478727817535,\n -0.6432337760925293,\n -0.1664719134569168,\n -0.14551441371440887,\n 0.9453580379486084,\n -1.5531091690063477,\n 0.2954764664173126,\n -0.08332473784685135,\n -1.2483277320861816,\n -0.24755260348320007,\n -0.030776865780353546,\n 0.031465113162994385,\n 0.76341712474823,\n 0.4758675694465637,\n -0.7105637788772583,\n 0.5583473443984985,\n 0.2695360779762268,\n -1.3186733722686768,\n -0.10069118440151215,\n 0.838224470615387,\n 0.9819567203521729,\n -2.0681772232055664,\n 1.7959095239639282,\n 0.041817180812358856,\n 1.2067562341690063,\n 0.26259082555770874,\n -0.10722184181213379,\n 0.4243278503417969,\n 0.9365528225898743,\n -0.2174513339996338,\n -0.606917142868042,\n -0.36414381861686707,\n 1.7116224765777588,\n -0.008356641978025436,\n 1.381545901298523,\n 0.9319719672203064,\n 0.8553957939147949,\n 0.3635018765926361,\n -0.456939160823822,\n 1.295672059059143,\n -0.0517699271440506,\n 0.2908003330230713,\n 0.21259182691574097,\n 0.9673718214035034,\n -0.10498510301113129,\n -0.03645865619182587,\n -0.15397174656391144,\n 0.6232311129570007,\n -1.3929450511932373,\n 0.9013141989707947,\n -0.5473602414131165,\n -0.8318934440612793,\n 1.2046846151351929,\n -1.3974995613098145,\n -0.0671273022890091,\n 0.4857718348503113,\n 0.7699947357177734,\n 0.544460654258728,\n 0.2659936249256134,\n -0.7307106256484985,\n -0.29917240142822266,\n -1.131029725074768,\n -0.9470346570014954,\n 0.49578455090522766,\n -0.5729292631149292,\n 0.00010772421956062317,\n 1.0447652339935303,\n 0.02691514790058136,\n -0.10185777395963669,\n -0.2953297197818756,\n 0.36970293521881104,\n -0.10575202107429504,\n -0.2734507918357849,\n -1.4103366136550903,\n -0.11907592415809631,\n 0.4799136519432068,\n 0.5115333795547485,\n -0.5209081172943115,\n -1.2197519540786743,\n -0.2593872547149658,\n 0.5031566619873047,\n 0.5434280633926392,\n -0.5547070503234863,\n -0.09857668727636337,\n 0.24171215295791626,\n 0.14190472662448883,\n -0.12081825733184814,\n 1.3189350366592407,\n 0.24992819130420685,\n -0.2229280322790146,\n -1.1229819059371948,\n 0.5496469736099243,\n -0.11974258720874786,\n 0.24683614075183868,\n 0.16674602031707764,\n -0.18729650974273682,\n 0.3645511269569397,\n -1.0595965385437012,\n 1.2431565523147583,\n -0.04317360743880272,\n -1.1088582277297974,\n 0.3733110725879669,\n -0.27824097871780396,\n 0.2058858424425125,\n 0.38358181715011597,\n 0.4825621545314789,\n -0.8512927293777466,\n -0.9053804874420166,\n 0.6975792050361633,\n -0.015398985706269741,\n -0.4606550335884094,\n 1.1664814949035645,\n 0.5989328622817993,\n 0.20469024777412415,\n -0.6344165802001953,\n 0.1126013696193695,\n 0.8837734460830688,\n -1.1757971048355103,\n 0.3193207383155823,\n 0.9867725372314453,\n 0.6061769127845764,\n 1.5589662790298462,\n -1.2291295528411865,\n -0.02164492756128311,\n -0.9843934774398804,\n -0.4779107868671417,\n -1.0777223110198975,\n 0.2828736901283264,\n -1.9495608806610107,\n -1.8895902633666992,\n -0.7025629878044128,\n -0.601630449295044,\n -1.0562469959259033,\n -1.3462777137756348,\n 1.7426234483718872,\n 0.18360716104507446,\n -0.13106723129749298,\n -0.5072954893112183,\n 0.779222309589386,\n -1.3599529266357422,\n 0.03390638157725334,\n -0.41321325302124023,\n -0.49115949869155884,\n 0.04265403002500534,\n -0.7551230788230896,\n -0.4123440384864807,\n -0.9109724164009094,\n -0.07195287942886353,\n 1.2471423149108887,\n 0.5091986060142517,\n 0.2018592804670334,\n -2.2202396392822266,\n -1.6967344284057617,\n -1.3260341882705688,\n -0.4219000041484833,\n 0.7234760522842407,\n -0.20519840717315674,\n 1.3370774984359741,\n -0.20052498579025269,\n 0.936540961265564,\n -0.1326550841331482,\n 0.4454604983329773,\n 1.115893840789795,\n -0.10675215721130371,\n -0.8267514109611511,\n 0.4367225468158722,\n -0.948055624961853,\n -0.29139575362205505,\n -0.332459032535553,\n -0.9551973342895508,\n -0.8883484601974487,\n 0.09860539436340332,\n -0.5661422610282898,\n -0.04049943387508392,\n 0.2221769094467163,\n -0.7406326532363892,\n 1.28993558883667,\n 0.012023907154798508,\n -1.4491496086120605,\n -0.6917412281036377,\n -0.46068891882896423,\n -1.0507029294967651,\n -0.7984517812728882,\n -2.4089837074279785,\n 0.40736591815948486,\n 0.9941266775131226,\n 2.205488681793213,\n 1.1098222732543945,\n -0.12450945377349854,\n 0.40353792905807495,\n 0.6762908697128296,\n 0.19132690131664276,\n 0.07967671751976013,\n 0.8743133544921875,\n -0.7335246205329895,\n -0.04927719011902809,\n -0.8787992000579834,\n 2.1595089435577393,\n -0.1479114592075348,\n -1.0146677494049072,\n -0.8570677042007446,\n -0.218558669090271,\n -0.5663365721702576,\n -0.19970311224460602,\n 0.8121333122253418,\n 1.0114758014678955,\n 0.40503519773483276,\n -0.7165735960006714,\n -1.3766555786132812,\n 0.23056256771087646,\n -0.051907263696193695,\n 0.29143887758255005,\n 0.41474753618240356,\n -0.6744490265846252,\n 1.781320333480835,\n -1.107537031173706,\n 0.5134897232055664,\n 0.2669886648654938,\n -0.5778681635856628,\n 0.5869841575622559,\n 0.22051264345645905,\n -1.3442707061767578,\n 0.4197750687599182,\n -0.570590615272522,\n -1.125807285308838,\n 0.6775063276290894,\n -0.5627464652061462,\n -0.3757614493370056,\n 0.621290922164917,\n -0.26790350675582886,\n -0.2845539152622223,\n 0.3393353819847107,\n -0.8753738403320312,\n -0.9432733058929443,\n -0.4895560145378113,\n -0.19077855348587036,\n 1.0425134897232056,\n 1.248950719833374,\n 0.40216904878616333,\n 0.12603436410427094,\n -0.33545899391174316,\n -0.5289537906646729,\n 0.48910799622535706,\n -0.09127406775951385,\n 0.7271151542663574,\n 0.641598641872406,\n 0.1499326229095459,\n 0.47685718536376953,\n 1.242125391960144,\n 1.5201340913772583,\n -0.1498054414987564,\n -0.6826947927474976,\n -0.6349808573722839,\n -0.6579097509384155,\n 1.3336273431777954,\n -0.025250166654586792,\n 0.1906590759754181,\n 0.5384389758110046,\n 1.1445767879486084,\n -0.7257159352302551,\n 1.280950665473938,\n -0.05822836607694626,\n -0.7569882273674011,\n 0.32147806882858276,\n -0.2661091685295105,\n 0.34972357749938965,\n -1.3710472583770752,\n 0.6803792715072632,\n 1.0878609418869019,\n -1.0307916402816772,\n 0.7945538759231567,\n -0.6088439226150513,\n -0.0943959504365921,\n -0.6547049283981323,\n 0.11718195676803589,\n -0.4062677323818207,\n 1.0199940204620361,\n 2.408317804336548,\n -1.0155094861984253,\n 0.1523144245147705,\n -0.7966251373291016,\n 0.5158529281616211,\n 0.6713908314704895,\n 0.7811188101768494,\n -0.07674276828765869,\n -0.10286161303520203,\n -0.22890305519104004,\n 0.8219282031059265,\n -0.8505315780639648,\n -0.1632300168275833,\n 0.7488653063774109,\n 0.27274006605148315,\n 0.9301753640174866,\n -0.17435631155967712,\n -0.7406074404716492,\n -1.2110652923583984,\n -0.022302061319351196,\n -0.09914650022983551,\n 0.23702436685562134,\n 0.0452415831387043,\n 0.5736498832702637,\n 0.27719777822494507,\n -0.37262195348739624,\n 1.3470264673233032,\n -0.4419068396091461,\n 0.2118144929409027,\n 0.975921630859375,\n -0.29670944809913635,\n 0.774980902671814,\n 0.5622204542160034,\n -0.21678854525089264,\n -0.754593014717102,\n -0.06176403909921646,\n -1.222426414489746,\n -0.6310811042785645,\n -1.5368292331695557,\n -0.1329444944858551,\n -0.07600864768028259,\n 1.038437843322754,\n 0.024236993864178658,\n -0.19217033684253693,\n -0.5935522317886353,\n -1.4072788953781128,\n -0.21962110698223114,\n 1.0919753313064575,\n 0.9273281693458557,\n 0.36837586760520935,\n 0.8330388069152832,\n -0.775563657283783,\n -0.993715763092041,\n -0.2496996968984604,\n 1.421406626701355,\n -0.6483228206634521,\n 0.75144362449646,\n -0.479330837726593,\n 0.18306605517864227,\n 0.049069877713918686,\n -0.3615659177303314,\n 0.5636981725692749,\n 0.2000168263912201,\n 1.7843748331069946,\n 0.9770799279212952,\n -0.25010958313941956,\n -0.5128946900367737,\n -0.6143613457679749,\n -0.5480345487594604,\n 0.21626348793506622,\n 0.2892610728740692,\n -0.18082569539546967,\n -0.1921246200799942,\n -0.7227980494499207,\n 0.5640093684196472,\n -0.2248421311378479,\n -1.0329519510269165,\n -0.7284849882125854,\n -0.7699559926986694,\n 0.0222619716078043,\n 1.736140489578247,\n -0.6426138281822205,\n -1.8044501543045044,\n 0.1965608298778534,\n -1.196290373802185,\n 0.5243973135948181,\n 1.0576945543289185,\n 0.12649063766002655,\n -1.6679677963256836,\n -0.45262378454208374,\n 1.7971446514129639,\n 2.3607027530670166,\n -0.5861688256263733,\n -0.49100905656814575,\n 1.052324891090393,\n 1.3882752656936646,\n 0.8544972538948059,\n -0.25209906697273254,\n 0.8645228147506714,\n 0.2806492745876312,\n 0.9967416524887085,\n 0.4908665716648102,\n 0.7917925119400024,\n 0.11866594851016998,\n 0.17236661911010742,\n 0.13864025473594666,\n -0.6185142397880554,\n 0.05895783007144928,\n 0.558322548866272,\n -0.1422802209854126,\n 0.23234598338603973,\n 1.234757661819458,\n 0.8504785299301147,\n 0.46937862038612366,\n 1.7824842929840088,\n 0.2100210189819336,\n -0.5509107112884521,\n -0.2870873212814331,\n -1.4529047012329102,\n 1.0252938270568848,\n 0.03493085503578186,\n 1.855913758277893,\n -1.3857414722442627,\n 0.07940737158060074,\n 0.2649361491203308,\n -0.3051791787147522,\n 0.025155939161777496,\n 0.24626576900482178,\n 0.6970276832580566,\n 2.1512603759765625,\n -0.7393585443496704,\n -0.9731979370117188,\n -0.7359747290611267,\n -1.061596155166626,\n 0.28507059812545776,\n 0.6509414911270142,\n 1.0680235624313354,\n -0.15599454939365387,\n 0.19047749042510986,\n -0.8089125752449036,\n -1.6200194358825684,\n 0.19371876120567322,\n -0.2079504132270813,\n -0.4605368971824646,\n 0.07031425088644028,\n -0.8064330816268921,\n 0.7311322093009949,\n 0.5096930861473083,\n 0.28993329405784607,\n 0.07381109148263931,\n 0.2570701241493225,\n 0.8027085661888123,\n -0.2322695255279541,\n 0.5883427858352661,\n 1.1950217485427856,\n -0.05781099572777748,\n 1.184421181678772,\n -1.0113630294799805,\n -0.5488296747207642,\n 0.9871807098388672,\n -0.32196903228759766,\n 1.467602014541626,\n -0.685976505279541,\n -0.028168804943561554,\n -0.5435290932655334,\n 0.23267096281051636,\n 0.3388458788394928,\n 1.0455138683319092,\n -0.7051482200622559,\n 0.044652797281742096,\n 0.02415098249912262,\n 0.23119686543941498,\n 0.7781580090522766,\n 0.252876877784729,\n 0.2986060678958893,\n 0.35340380668640137,\n -0.2502095699310303,\n -0.20565609633922577,\n -0.5734757781028748,\n 0.2967011332511902,\n 0.20595526695251465,\n 1.3908541202545166,\n -0.7157859802246094,\n -1.4022650718688965,\n 0.3070131540298462,\n -0.9174683094024658,\n 0.9535772800445557,\n 0.028720732778310776,\n -0.43730902671813965,\n 0.9311129450798035,\n -0.6839022040367126,\n 0.05700208991765976,\n -0.5706307291984558,\n -0.3896743357181549,\n 0.43560391664505005,\n 0.16550830006599426,\n 0.1627516746520996,\n 0.5323420763015747,\n -0.7096282243728638,\n -1.3766002655029297,\n -0.027385301887989044,\n 0.15837529301643372,\n -0.348994642496109,\n 0.20673882961273193,\n 0.5225946307182312,\n 0.0558558814227581,\n 0.8145307898521423,\n -1.243464708328247,\n -0.3416934609413147,\n 0.610651433467865,\n -0.16810856759548187,\n -1.5815600156784058,\n 0.5111609697341919,\n -0.1009303629398346,\n 1.068315863609314,\n 0.4017822742462158,\n 0.7728973031044006,\n 0.9639689326286316,\n -0.1812652051448822,\n -0.7073937058448792,\n 1.367206335067749,\n -0.04928038269281387,\n 0.7543817162513733,\n -0.33289968967437744,\n -0.5320096015930176,\n 0.77171790599823,\n -1.4306609630584717,\n -0.34017854928970337,\n -0.95222008228302,\n 0.323345422744751,\n -0.16982796788215637,\n -0.3203354477882385,\n -1.1694793701171875,\n 0.3187255263328552,\n -1.1308841705322266,\n 0.9825019836425781,\n -0.42364928126335144,\n 0.37667617201805115,\n 0.23965558409690857,\n 0.04613794758915901,\n -0.3630381226539612,\n 0.690459132194519,\n 0.17742621898651123,\n -0.11129772663116455,\n 0.9317210912704468,\n 0.44228726625442505,\n -1.4477821588516235,\n 0.3450501561164856,\n -0.6682338714599609,\n 0.45175135135650635,\n 0.46083560585975647,\n -0.36688554286956787,\n -0.3527538776397705,\n -0.19762232899665833,\n -1.2038476467132568,\n 0.4444354176521301,\n -0.11635425686836243,\n 0.46426913142204285,\n 0.3043596148490906,\n 0.43683376908302307,\n 0.07085901498794556,\n 0.7522857785224915,\n -0.26345333456993103,\n -0.6346293091773987,\n -0.04866597056388855,\n 0.6341415047645569,\n 0.7607814073562622,\n -0.6211125254631042,\n -1.2930026054382324,\n 0.2425508201122284,\n 0.5218009352684021,\n 0.3809301257133484,\n -0.5783412456512451,\n -0.6597048044204712,\n 0.0203971266746521,\n -0.5223875045776367,\n -0.12900997698307037,\n 0.5414220094680786,\n -0.19750873744487762,\n -0.07653883844614029,\n 0.009922921657562256,\n 0.021762020885944366,\n 0.708094596862793,\n -1.0154728889465332,\n -0.4005564749240875,\n 1.016600489616394,\n -0.3585353195667267,\n -0.32568636536598206,\n -1.188814640045166,\n -0.3186226785182953,\n -1.1300625801086426,\n 0.7755977511405945,\n 0.35449686646461487,\n -1.3101837635040283,\n 0.2133556455373764,\n 0.49137744307518005,\n -0.3202168345451355,\n 0.1120649054646492,\n -0.681810200214386,\n 1.2996255159378052,\n -0.009083263576030731,\n -0.784446120262146,\n -1.680178165435791,\n -1.3782039880752563,\n 1.836463451385498,\n 0.2386905997991562,\n -0.2099464237689972,\n -1.1885119676589966,\n -0.009456921368837357,\n -0.8991426825523376,\n 1.0143709182739258,\n -1.109465479850769,\n 0.9285442233085632,\n 0.24324160814285278,\n 0.940162181854248,\n 1.475010633468628,\n 1.0934278964996338,\n -0.6823368668556213,\n 1.3999816179275513,\n -0.5220283269882202,\n 0.049342963844537735,\n 0.43139559030532837,\n 0.6676629781723022,\n 0.45258522033691406,\n -0.48798030614852905,\n 1.973716378211975,\n 1.2708991765975952,\n -0.6464487910270691,\n 1.03731107711792,\n 0.49690043926239014,\n -0.6926136612892151,\n -0.07959640026092529,\n 0.3817542791366577,\n -1.5041899681091309,\n -0.5971860885620117,\n -0.8415416479110718,\n 0.9634858965873718,\n -0.9260529279708862,\n 0.6840217113494873,\n 0.2091168612241745,\n -0.7426185607910156,\n 0.4086689054965973,\n -0.19742438197135925,\n -0.30355602502822876,\n 1.0705262422561646,\n 0.503551721572876,\n 0.28770506381988525,\n 0.656362771987915,\n -0.494919091463089,\n -0.10778015851974487,\n 1.2304270267486572,\n 0.05794725939631462,\n 0.9954289197921753,\n -0.13780927658081055,\n -0.6618123650550842,\n -0.7520534992218018,\n 0.5154159069061279,\n 0.013883082196116447,\n -1.7780342102050781,\n -1.0335785150527954,\n -0.7866886854171753,\n 1.1265853643417358,\n -1.006332278251648,\n 0.7276362180709839,\n -1.5708091259002686,\n -0.5158202648162842,\n -1.5358144044876099,\n 0.11593714356422424,\n 0.0403306744992733,\n -0.4433370530605316,\n -0.3035179078578949,\n 1.1384351253509521,\n 0.2018362581729889,\n -0.8525559902191162,\n 1.3874688148498535,\n -0.031339019536972046,\n 0.37712037563323975,\n -0.482884019613266,\n 1.5435364246368408,\n -0.5098297595977783,\n 0.743617057800293,\n -0.46099111437797546,\n 0.7742636799812317,\n -0.19380472600460052,\n 0.13227912783622742,\n 0.4847010672092438,\n -0.8838300108909607,\n -1.2811596393585205,\n 0.4588974714279175,\n 0.30898889899253845,\n -0.11364776641130447,\n -0.5634232759475708,\n -0.7569455504417419,\n -0.4605640470981598,\n 0.9788768291473389,\n 2.0038363933563232,\n -0.004099242389202118,\n -1.5388697385787964,\n 0.37639153003692627,\n -0.5812681913375854,\n 0.14426322281360626,\n 0.5119348168373108,\n -0.26226967573165894,\n 0.7842617034912109,\n -0.5842064619064331,\n 0.24737602472305298,\n 0.2864879071712494,\n 0.8536664843559265,\n -0.4255945682525635,\n -1.719862461090088,\n -0.6002333760261536,\n -0.5004005432128906,\n -0.0001905485987663269,\n -0.12387866526842117,\n -0.21579717099666595,\n 0.2305840104818344,\n -1.3025672435760498,\n 0.8729804158210754,\n 0.5489493608474731,\n -0.5781526565551758,\n 0.15637074410915375,\n 0.18785274028778076,\n -0.7718244791030884,\n 0.9319901466369629,\n -0.46772611141204834,\n -0.9364511370658875,\n -0.7453091740608215,\n -0.9453829526901245,\n -0.17302192747592926,\n -0.7541661858558655,\n 1.218522548675537,\n 0.5222586393356323,\n 1.4998490810394287,\n 1.4839154481887817,\n 0.566994309425354,\n 0.4835672080516815,\n -0.4379737675189972,\n -0.9301183223724365,\n 0.4994406998157501,\n -0.922580897808075,\n 0.211550772190094,\n -0.6099997162818909,\n 0.44072914123535156]"
     },
     "execution_count": 34,
     "metadata": {},
     "output_type": "execute_result"
    }
   ],
   "source": [
    "embedding.embed_query(\"who's Dawid\")"
   ],
   "metadata": {
    "collapsed": false,
    "ExecuteTime": {
     "end_time": "2024-09-21T16:28:23.204069Z",
     "start_time": "2024-09-21T16:28:23.129452Z"
    }
   },
   "id": "f5f8a9fd94e92975",
   "execution_count": 34
  },
  {
   "cell_type": "code",
   "outputs": [],
   "source": [
    "vecstore = QdrantVectorStore.from_documents(\n",
    "    docs,\n",
    "    embedding=embedding,\n",
    "    location=\":memory:\",\n",
    "    collection_name=\"my_documents\",\n",
    "    distance=Distance.COSINE,\n",
    ")"
   ],
   "metadata": {
    "collapsed": false,
    "ExecuteTime": {
     "end_time": "2024-09-21T16:35:39.552243Z",
     "start_time": "2024-09-21T16:28:23.204687Z"
    }
   },
   "id": "17a9da3319c93ec0",
   "execution_count": 35
  },
  {
   "cell_type": "code",
   "outputs": [],
   "source": [
    "retriever = vecstore.as_retriever()"
   ],
   "metadata": {
    "collapsed": false,
    "ExecuteTime": {
     "end_time": "2024-09-21T16:35:39.564854Z",
     "start_time": "2024-09-21T16:35:39.561176Z"
    }
   },
   "id": "4af79393bf904a30",
   "execution_count": 36
  },
  {
   "cell_type": "code",
   "outputs": [
    {
     "data": {
      "text/plain": "[Document(metadata={'instruction': 'When did Virgin Australia start operating?', 'response': 'Virgin Australia commenced services on 31 August 2000 as Virgin Blue, with two aircraft on a single route.', 'category': 'closed_qa', '_id': 'c575496c39774c97b02c6190492ef54c', '_collection_name': 'my_documents'}, page_content='\"Virgin Australia, the trading name of Virgin Australia Airlines Pty Ltd, is an Australian-based airline. It is the largest airline by fleet size to use the Virgin brand. It commenced services on 31 August 2000 as Virgin Blue, with two aircraft on a single route. It suddenly found itself as a major airline in Australia\\'s domestic market after the collapse of Ansett Australia in September 2001. The airline has since grown to directly serve 32 cities in Australia, from hubs in Brisbane, Melbourne and Sydney.\"'),\n Document(metadata={'instruction': 'Note down some details about Munda Airport from the given text', 'response': \"1. Munda Airport in Solomon Islands' Western Province is a global airport with the IATA and ICAO codes MUA and AGGM.\\n2. Developed further by the U.S. Naval Construction Battalions 24 and 73 after its surrender. It was initially constructed by Japanese forces during World War II.\\n3. The airfield was converted to a commercial airport for regional flights after the war.\\n4. The field was considerably improved to become an international airport in 2015 as part of a New Zealand government aid and development project.\\n5. A significant amount of unexploded ordnance left behind by withdrawing US and Japanese forces was also removed as part of the refurbishment.\\n6. Despite the fact that no international flights were scheduled beyond 2019, the main economic goal of the improvement is to act as a backup field for international flights to Honiara International Airport, hence lowering fuel consumption and enhancing flight economics.\\n7. As an example, before the Munda improvement, an aircraft from Brisbane to Honiara required to have enough fuel on board to make a turn around and return to Brisbane, which was the closest practical alternative.\", 'category': 'summarization', '_id': 'dcd27b54d9e14f86866aabea8fb551d8', '_collection_name': 'my_documents'}, page_content='and improving the economics of the flight. For example, prior to the Munda upgrade, a flight from Brisbane to Honiara had to carry sufficient fuel to return to Brisbane because that was the nearest viable alternate.\"'),\n Document(metadata={'instruction': 'Please give me the list of airports that are owned by Australia Pacific Airports Corporation.', 'response': 'Australia Pacific Airports Corporation Limited owns two airports in Australia called Launceston Airport and Melbourne Airport.', 'category': 'summarization', '_id': '7c27be6399e64471a0e0a62abd308ab8', '_collection_name': 'my_documents'}, page_content='\"Australia Pacific Airports Corporation Limited (APAC) is an unlisted company and owner of two Australian airports: Melbourne Airport and Launceston Airport. Each airport is operated by an airport lessee company, in which APAC has a controlling interest: Australia Pacific Airports (Melbourne) Pty Ltd and Australia Pacific Airports (Launceston) Pty Ltd respectively.\"'),\n Document(metadata={'instruction': 'Who is Leslie Hubert Holden?', 'response': 'Leslie Hubert Holden was an Australian fighter ace who served in Egypt and France during World War I.', 'category': 'summarization', '_id': 'df490f22054b4db2a296548c18eccd36', '_collection_name': 'my_documents'}, page_content='\"Leslie Hubert Holden, MC, AFC (6 March 1895 \\\\u2013 18 September 1932) was an Australian fighter ace of World War I and later a commercial aviator. A South Australian, he joined the Light Horse in May 1915, serving in Egypt and France. In December 1916, he volunteered for the Australian Flying Corps and qualified as a pilot. As a member of No. 2 Squadron on the Western Front, he gained the sobriquets \\\\\"Lucky Les\\\\\" and \\\\\"the homing pigeon\\\\\" after a series of incidents that saw him limping back to base in bullet-riddled aircraft. He was awarded the Military Cross, and went on to achieve five aerial victories flying Airco DH.5s and Royal Aircraft Factory S.E.5s.\"')]"
     },
     "execution_count": 37,
     "metadata": {},
     "output_type": "execute_result"
    }
   ],
   "source": [
    "vecstore.similarity_search(query=\"flying australia\", k=4)"
   ],
   "metadata": {
    "collapsed": false,
    "ExecuteTime": {
     "end_time": "2024-09-21T16:35:39.669521Z",
     "start_time": "2024-09-21T16:35:39.566116Z"
    }
   },
   "id": "cf40248c733f270c",
   "execution_count": 37
  },
  {
   "cell_type": "code",
   "outputs": [],
   "source": [
    "model = \"llama3.1\"\n",
    "llm = ChatOllama(model=model)"
   ],
   "metadata": {
    "collapsed": false,
    "ExecuteTime": {
     "end_time": "2024-09-21T16:35:39.735195Z",
     "start_time": "2024-09-21T16:35:39.671446Z"
    }
   },
   "id": "91d321a99d6cd8ce",
   "execution_count": 38
  },
  {
   "cell_type": "code",
   "outputs": [],
   "source": [
    "def format_docs(docs):\n",
    "    return \"\\n\\n\".join(doc.page_content for doc in docs)"
   ],
   "metadata": {
    "collapsed": false,
    "ExecuteTime": {
     "end_time": "2024-09-21T16:35:39.779475Z",
     "start_time": "2024-09-21T16:35:39.741785Z"
    }
   },
   "id": "c1c4071f8d8d803",
   "execution_count": 39
  },
  {
   "cell_type": "code",
   "outputs": [],
   "source": [
    "# prompt = hub.pull(\"rlm/rag-prompt\")"
   ],
   "metadata": {
    "collapsed": false,
    "ExecuteTime": {
     "end_time": "2024-09-21T16:35:39.785271Z",
     "start_time": "2024-09-21T16:35:39.781581Z"
    }
   },
   "id": "27f7acc25b197512",
   "execution_count": 40
  },
  {
   "cell_type": "code",
   "outputs": [],
   "source": [
    "template = \"\"\"Use the following pieces of context to answer the question at the end.\n",
    "If you don't know the answer, just say that you don't know, don't try to make up an answer.\n",
    "Use three sentences maximum and keep the answer as concise as possible.\n",
    "Always say \"thanks for asking!\" at the end of the answer.\n",
    "\n",
    "{context}\n",
    "\n",
    "Question: {question}\n",
    "\n",
    "Helpful Answer:\"\"\"\n",
    "custom_rag_prompt = PromptTemplate.from_template(template)"
   ],
   "metadata": {
    "collapsed": false,
    "ExecuteTime": {
     "end_time": "2024-09-21T16:35:39.790565Z",
     "start_time": "2024-09-21T16:35:39.786916Z"
    }
   },
   "id": "1e56e862c7691397",
   "execution_count": 41
  },
  {
   "cell_type": "code",
   "outputs": [],
   "source": [
    "rag_chain = (\n",
    "    {\"context\": retriever | format_docs, \"question\": RunnablePassthrough()}\n",
    "    | custom_rag_prompt\n",
    "    | llm\n",
    "    | StrOutputParser()\n",
    ")"
   ],
   "metadata": {
    "collapsed": false,
    "ExecuteTime": {
     "end_time": "2024-09-21T16:35:39.799031Z",
     "start_time": "2024-09-21T16:35:39.792016Z"
    }
   },
   "id": "ca7fe4ecc3e9e94b",
   "execution_count": 42
  },
  {
   "cell_type": "code",
   "outputs": [
    {
     "data": {
      "text/plain": "'Thomas Jefferson był amerykańskim politykiem, dyplomatą i prawnikiem, który służył jako trzeci prezydent Stanów Zjednoczonych od 1801 do 1809 roku. Był również autorem Deklaracji Niepodległości. Początkowo pełnił funkcje sekretarza stanu i wiceprezydenta Stanów Zjednoczonych.\\n\\nThanks for asking!'"
     },
     "execution_count": 43,
     "metadata": {},
     "output_type": "execute_result"
    }
   ],
   "source": [
    "question = \"Who is Thomas Jefferson? Write in Polish\"\n",
    "rag_chain.invoke(question)"
   ],
   "metadata": {
    "collapsed": false,
    "ExecuteTime": {
     "end_time": "2024-09-21T16:35:53.731080Z",
     "start_time": "2024-09-21T16:35:39.800623Z"
    }
   },
   "id": "8d10f012b57e9906",
   "execution_count": 43
  },
  {
   "cell_type": "code",
   "outputs": [],
   "source": [
    "contextualize_q_system_prompt = \"\"\"Given a chat history and the latest user question \\\n",
    "which might reference context in the chat history, formulate a standalone question \\\n",
    "which can be understood without the chat history. Do NOT answer the question, \\\n",
    "just reformulate it if needed and otherwise return it as is.\"\"\"\n",
    "contextualize_q_prompt = ChatPromptTemplate.from_messages(\n",
    "    [\n",
    "        (\"system\", contextualize_q_system_prompt),\n",
    "        MessagesPlaceholder(\"chat_history\"),\n",
    "        (\"human\", \"{input}\"),\n",
    "    ]\n",
    ")\n",
    "history_aware_retriever = create_history_aware_retriever(\n",
    "    llm, retriever, contextualize_q_prompt\n",
    ")"
   ],
   "metadata": {
    "collapsed": false,
    "ExecuteTime": {
     "end_time": "2024-09-21T16:35:53.757764Z",
     "start_time": "2024-09-21T16:35:53.734480Z"
    }
   },
   "id": "5052b1fa422f4d0e",
   "execution_count": 44
  },
  {
   "cell_type": "code",
   "outputs": [],
   "source": [
    "qa_system_prompt = \"\"\"You are an assistant for question-answering tasks. \\\n",
    "Use the following pieces of retrieved context to answer the question. \\\n",
    "If you don't know the answer, just say that you don't know. \\\n",
    "Use three sentences maximum and keep the answer concise.\\\n",
    "\n",
    "{context}\"\"\"\n",
    "qa_prompt = ChatPromptTemplate.from_messages(\n",
    "    [\n",
    "        (\"system\", qa_system_prompt),\n",
    "        MessagesPlaceholder(\"chat_history\"),\n",
    "        (\"human\", \"{input}\"),\n",
    "    ]\n",
    ")\n",
    "\n",
    "\n",
    "question_answer_chain = create_stuff_documents_chain(llm, qa_prompt)\n",
    "\n",
    "rag_chain = create_retrieval_chain(history_aware_retriever, question_answer_chain)"
   ],
   "metadata": {
    "collapsed": false,
    "ExecuteTime": {
     "end_time": "2024-09-21T16:35:53.774925Z",
     "start_time": "2024-09-21T16:35:53.760721Z"
    }
   },
   "id": "618d889c71a41d70",
   "execution_count": 45
  },
  {
   "cell_type": "code",
   "outputs": [
    {
     "data": {
      "text/plain": "'There are several notable Australian airlines. Virgin Australia is the largest airline by fleet size to use the Virgin brand and has directly served 32 cities in Australia since its inception in 2000. It also experienced significant growth after the collapse of Ansett Australia in 2001.'"
     },
     "execution_count": 48,
     "metadata": {},
     "output_type": "execute_result"
    }
   ],
   "source": [
    "chat_history = []\n",
    "\n",
    "question = \"Tell me about airlines from Australia\"\n",
    "ai_msg_1 = rag_chain.invoke({\"input\": question, \"chat_history\": chat_history})\n",
    "chat_history.extend([HumanMessage(content=question), ai_msg_1[\"answer\"]])\n",
    "ai_msg_1['answer']"
   ],
   "metadata": {
    "collapsed": false,
    "ExecuteTime": {
     "end_time": "2024-09-21T16:36:46.534530Z",
     "start_time": "2024-09-21T16:36:40.712056Z"
    }
   },
   "id": "1c9bccee55bcfa42",
   "execution_count": 48
  },
  {
   "cell_type": "code",
   "outputs": [
    {
     "name": "stdout",
     "output_type": "stream",
     "text": [
      "Here's a translation:\n",
      "\n",
      "\"Są kilka wybitnych linii lotniczych z Australii. Virgin Australia jest największą linią lotniczą w ramach marki Virgin i obsługuje bezpośrednio 32 miast w Australii od momentu swojego powstania w 2000 roku. Linia doświadczyła istotnego wzrostu po upadku Ansett Australia w 2001 roku.\"\n"
     ]
    }
   ],
   "source": [
    "second_question = \"Could you translate it to polish language?\"\n",
    "ai_msg_2 = rag_chain.invoke({\"input\": second_question, \"chat_history\": chat_history})\n",
    "\n",
    "print(ai_msg_2[\"answer\"])"
   ],
   "metadata": {
    "collapsed": false,
    "ExecuteTime": {
     "end_time": "2024-09-21T16:37:04.454868Z",
     "start_time": "2024-09-21T16:36:50.572620Z"
    }
   },
   "id": "78c1b001eca99964",
   "execution_count": 49
  },
  {
   "cell_type": "code",
   "outputs": [],
   "source": [],
   "metadata": {
    "collapsed": false,
    "ExecuteTime": {
     "end_time": "2024-09-21T16:36:07.614177Z",
     "start_time": "2024-09-21T16:36:07.608855Z"
    }
   },
   "id": "c91afc1157586204",
   "execution_count": 47
  }
 ],
 "metadata": {
  "kernelspec": {
   "display_name": "Python 3",
   "language": "python",
   "name": "python3"
  },
  "language_info": {
   "codemirror_mode": {
    "name": "ipython",
    "version": 2
   },
   "file_extension": ".py",
   "mimetype": "text/x-python",
   "name": "python",
   "nbconvert_exporter": "python",
   "pygments_lexer": "ipython2",
   "version": "2.7.6"
  }
 },
 "nbformat": 4,
 "nbformat_minor": 5
}
