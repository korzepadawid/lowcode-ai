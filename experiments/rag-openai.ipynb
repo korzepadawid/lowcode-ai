{
 "cells": [
  {
   "cell_type": "code",
   "outputs": [],
   "source": [
    "import os\n",
    "\n",
    "os.environ['OPENAI_API_KEY'] = \"ur key\""
   ],
   "metadata": {
    "collapsed": false,
    "ExecuteTime": {
     "end_time": "2024-09-18T17:04:05.667938Z",
     "start_time": "2024-09-18T17:04:05.665920Z"
    }
   },
   "id": "b5fff5ec6ab5280f",
   "execution_count": 98
  },
  {
   "cell_type": "code",
   "outputs": [
    {
     "name": "stdout",
     "output_type": "stream",
     "text": [
      "\r\n",
      "\u001B[1m[\u001B[0m\u001B[34;49mnotice\u001B[0m\u001B[1;39;49m]\u001B[0m\u001B[39;49m A new release of pip is available: \u001B[0m\u001B[31;49m24.0\u001B[0m\u001B[39;49m -> \u001B[0m\u001B[32;49m24.2\u001B[0m\r\n",
      "\u001B[1m[\u001B[0m\u001B[34;49mnotice\u001B[0m\u001B[1;39;49m]\u001B[0m\u001B[39;49m To update, run: \u001B[0m\u001B[32;49mpip install --upgrade pip\u001B[0m\r\n",
      "\r\n",
      "\u001B[1m[\u001B[0m\u001B[34;49mnotice\u001B[0m\u001B[1;39;49m]\u001B[0m\u001B[39;49m A new release of pip is available: \u001B[0m\u001B[31;49m24.0\u001B[0m\u001B[39;49m -> \u001B[0m\u001B[32;49m24.2\u001B[0m\r\n",
      "\u001B[1m[\u001B[0m\u001B[34;49mnotice\u001B[0m\u001B[1;39;49m]\u001B[0m\u001B[39;49m To update, run: \u001B[0m\u001B[32;49mpip install --upgrade pip\u001B[0m\r\n",
      "\r\n",
      "\u001B[1m[\u001B[0m\u001B[34;49mnotice\u001B[0m\u001B[1;39;49m]\u001B[0m\u001B[39;49m A new release of pip is available: \u001B[0m\u001B[31;49m24.0\u001B[0m\u001B[39;49m -> \u001B[0m\u001B[32;49m24.2\u001B[0m\r\n",
      "\u001B[1m[\u001B[0m\u001B[34;49mnotice\u001B[0m\u001B[1;39;49m]\u001B[0m\u001B[39;49m To update, run: \u001B[0m\u001B[32;49mpip install --upgrade pip\u001B[0m\r\n",
      "\r\n",
      "\u001B[1m[\u001B[0m\u001B[34;49mnotice\u001B[0m\u001B[1;39;49m]\u001B[0m\u001B[39;49m A new release of pip is available: \u001B[0m\u001B[31;49m24.0\u001B[0m\u001B[39;49m -> \u001B[0m\u001B[32;49m24.2\u001B[0m\r\n",
      "\u001B[1m[\u001B[0m\u001B[34;49mnotice\u001B[0m\u001B[1;39;49m]\u001B[0m\u001B[39;49m To update, run: \u001B[0m\u001B[32;49mpip install --upgrade pip\u001B[0m\r\n"
     ]
    }
   ],
   "source": [
    "!pip install -q transformers\n",
    "!pip install -q sentence-transformers\n",
    "!pip install -q datasets\n",
    "!pip install -q faiss-cpu"
   ],
   "metadata": {
    "collapsed": false,
    "ExecuteTime": {
     "end_time": "2024-09-18T17:00:26.165164Z",
     "start_time": "2024-09-18T17:00:21.741843Z"
    }
   },
   "id": "659beb12c9fe24af",
   "execution_count": 80
  },
  {
   "cell_type": "code",
   "outputs": [
    {
     "name": "stdout",
     "output_type": "stream",
     "text": [
      "Requirement already satisfied: langchain-community in /Users/dawidkorzepa/repos/lowcode-ai/env/lib/python3.12/site-packages (0.3.0)\r\n",
      "Requirement already satisfied: PyYAML>=5.3 in /Users/dawidkorzepa/repos/lowcode-ai/env/lib/python3.12/site-packages (from langchain-community) (6.0.2)\r\n",
      "Requirement already satisfied: SQLAlchemy<3,>=1.4 in /Users/dawidkorzepa/repos/lowcode-ai/env/lib/python3.12/site-packages (from langchain-community) (2.0.35)\r\n",
      "Requirement already satisfied: aiohttp<4.0.0,>=3.8.3 in /Users/dawidkorzepa/repos/lowcode-ai/env/lib/python3.12/site-packages (from langchain-community) (3.10.5)\r\n",
      "Requirement already satisfied: dataclasses-json<0.7,>=0.5.7 in /Users/dawidkorzepa/repos/lowcode-ai/env/lib/python3.12/site-packages (from langchain-community) (0.6.7)\r\n",
      "Requirement already satisfied: langchain<0.4.0,>=0.3.0 in /Users/dawidkorzepa/repos/lowcode-ai/env/lib/python3.12/site-packages (from langchain-community) (0.3.0)\r\n",
      "Requirement already satisfied: langchain-core<0.4.0,>=0.3.0 in /Users/dawidkorzepa/repos/lowcode-ai/env/lib/python3.12/site-packages (from langchain-community) (0.3.1)\r\n",
      "Requirement already satisfied: langsmith<0.2.0,>=0.1.112 in /Users/dawidkorzepa/repos/lowcode-ai/env/lib/python3.12/site-packages (from langchain-community) (0.1.121)\r\n",
      "Requirement already satisfied: numpy<2.0.0,>=1.26.0 in /Users/dawidkorzepa/repos/lowcode-ai/env/lib/python3.12/site-packages (from langchain-community) (1.26.4)\r\n",
      "Requirement already satisfied: pydantic-settings<3.0.0,>=2.4.0 in /Users/dawidkorzepa/repos/lowcode-ai/env/lib/python3.12/site-packages (from langchain-community) (2.5.2)\r\n",
      "Requirement already satisfied: requests<3,>=2 in /Users/dawidkorzepa/repos/lowcode-ai/env/lib/python3.12/site-packages (from langchain-community) (2.32.3)\r\n",
      "Requirement already satisfied: tenacity!=8.4.0,<9.0.0,>=8.1.0 in /Users/dawidkorzepa/repos/lowcode-ai/env/lib/python3.12/site-packages (from langchain-community) (8.5.0)\r\n",
      "Requirement already satisfied: aiohappyeyeballs>=2.3.0 in /Users/dawidkorzepa/repos/lowcode-ai/env/lib/python3.12/site-packages (from aiohttp<4.0.0,>=3.8.3->langchain-community) (2.4.0)\r\n",
      "Requirement already satisfied: aiosignal>=1.1.2 in /Users/dawidkorzepa/repos/lowcode-ai/env/lib/python3.12/site-packages (from aiohttp<4.0.0,>=3.8.3->langchain-community) (1.3.1)\r\n",
      "Requirement already satisfied: attrs>=17.3.0 in /Users/dawidkorzepa/repos/lowcode-ai/env/lib/python3.12/site-packages (from aiohttp<4.0.0,>=3.8.3->langchain-community) (24.2.0)\r\n",
      "Requirement already satisfied: frozenlist>=1.1.1 in /Users/dawidkorzepa/repos/lowcode-ai/env/lib/python3.12/site-packages (from aiohttp<4.0.0,>=3.8.3->langchain-community) (1.4.1)\r\n",
      "Requirement already satisfied: multidict<7.0,>=4.5 in /Users/dawidkorzepa/repos/lowcode-ai/env/lib/python3.12/site-packages (from aiohttp<4.0.0,>=3.8.3->langchain-community) (6.1.0)\r\n",
      "Requirement already satisfied: yarl<2.0,>=1.0 in /Users/dawidkorzepa/repos/lowcode-ai/env/lib/python3.12/site-packages (from aiohttp<4.0.0,>=3.8.3->langchain-community) (1.11.1)\r\n",
      "Requirement already satisfied: marshmallow<4.0.0,>=3.18.0 in /Users/dawidkorzepa/repos/lowcode-ai/env/lib/python3.12/site-packages (from dataclasses-json<0.7,>=0.5.7->langchain-community) (3.22.0)\r\n",
      "Requirement already satisfied: typing-inspect<1,>=0.4.0 in /Users/dawidkorzepa/repos/lowcode-ai/env/lib/python3.12/site-packages (from dataclasses-json<0.7,>=0.5.7->langchain-community) (0.9.0)\r\n",
      "Requirement already satisfied: langchain-text-splitters<0.4.0,>=0.3.0 in /Users/dawidkorzepa/repos/lowcode-ai/env/lib/python3.12/site-packages (from langchain<0.4.0,>=0.3.0->langchain-community) (0.3.0)\r\n",
      "Requirement already satisfied: pydantic<3.0.0,>=2.7.4 in /Users/dawidkorzepa/repos/lowcode-ai/env/lib/python3.12/site-packages (from langchain<0.4.0,>=0.3.0->langchain-community) (2.9.2)\r\n",
      "Requirement already satisfied: jsonpatch<2.0,>=1.33 in /Users/dawidkorzepa/repos/lowcode-ai/env/lib/python3.12/site-packages (from langchain-core<0.4.0,>=0.3.0->langchain-community) (1.33)\r\n",
      "Requirement already satisfied: packaging<25,>=23.2 in /Users/dawidkorzepa/repos/lowcode-ai/env/lib/python3.12/site-packages (from langchain-core<0.4.0,>=0.3.0->langchain-community) (24.1)\r\n",
      "Requirement already satisfied: typing-extensions>=4.7 in /Users/dawidkorzepa/repos/lowcode-ai/env/lib/python3.12/site-packages (from langchain-core<0.4.0,>=0.3.0->langchain-community) (4.12.2)\r\n",
      "Requirement already satisfied: httpx<1,>=0.23.0 in /Users/dawidkorzepa/repos/lowcode-ai/env/lib/python3.12/site-packages (from langsmith<0.2.0,>=0.1.112->langchain-community) (0.27.2)\r\n",
      "Requirement already satisfied: orjson<4.0.0,>=3.9.14 in /Users/dawidkorzepa/repos/lowcode-ai/env/lib/python3.12/site-packages (from langsmith<0.2.0,>=0.1.112->langchain-community) (3.10.7)\r\n",
      "Requirement already satisfied: python-dotenv>=0.21.0 in /Users/dawidkorzepa/repos/lowcode-ai/env/lib/python3.12/site-packages (from pydantic-settings<3.0.0,>=2.4.0->langchain-community) (1.0.1)\r\n",
      "Requirement already satisfied: charset-normalizer<4,>=2 in /Users/dawidkorzepa/repos/lowcode-ai/env/lib/python3.12/site-packages (from requests<3,>=2->langchain-community) (3.3.2)\r\n",
      "Requirement already satisfied: idna<4,>=2.5 in /Users/dawidkorzepa/repos/lowcode-ai/env/lib/python3.12/site-packages (from requests<3,>=2->langchain-community) (3.10)\r\n",
      "Requirement already satisfied: urllib3<3,>=1.21.1 in /Users/dawidkorzepa/repos/lowcode-ai/env/lib/python3.12/site-packages (from requests<3,>=2->langchain-community) (2.2.3)\r\n",
      "Requirement already satisfied: certifi>=2017.4.17 in /Users/dawidkorzepa/repos/lowcode-ai/env/lib/python3.12/site-packages (from requests<3,>=2->langchain-community) (2024.8.30)\r\n",
      "Requirement already satisfied: anyio in /Users/dawidkorzepa/repos/lowcode-ai/env/lib/python3.12/site-packages (from httpx<1,>=0.23.0->langsmith<0.2.0,>=0.1.112->langchain-community) (4.4.0)\r\n",
      "Requirement already satisfied: httpcore==1.* in /Users/dawidkorzepa/repos/lowcode-ai/env/lib/python3.12/site-packages (from httpx<1,>=0.23.0->langsmith<0.2.0,>=0.1.112->langchain-community) (1.0.5)\r\n",
      "Requirement already satisfied: sniffio in /Users/dawidkorzepa/repos/lowcode-ai/env/lib/python3.12/site-packages (from httpx<1,>=0.23.0->langsmith<0.2.0,>=0.1.112->langchain-community) (1.3.1)\r\n",
      "Requirement already satisfied: h11<0.15,>=0.13 in /Users/dawidkorzepa/repos/lowcode-ai/env/lib/python3.12/site-packages (from httpcore==1.*->httpx<1,>=0.23.0->langsmith<0.2.0,>=0.1.112->langchain-community) (0.14.0)\r\n",
      "Requirement already satisfied: jsonpointer>=1.9 in /Users/dawidkorzepa/repos/lowcode-ai/env/lib/python3.12/site-packages (from jsonpatch<2.0,>=1.33->langchain-core<0.4.0,>=0.3.0->langchain-community) (3.0.0)\r\n",
      "Requirement already satisfied: annotated-types>=0.6.0 in /Users/dawidkorzepa/repos/lowcode-ai/env/lib/python3.12/site-packages (from pydantic<3.0.0,>=2.7.4->langchain<0.4.0,>=0.3.0->langchain-community) (0.7.0)\r\n",
      "Requirement already satisfied: pydantic-core==2.23.4 in /Users/dawidkorzepa/repos/lowcode-ai/env/lib/python3.12/site-packages (from pydantic<3.0.0,>=2.7.4->langchain<0.4.0,>=0.3.0->langchain-community) (2.23.4)\r\n",
      "Requirement already satisfied: mypy-extensions>=0.3.0 in /Users/dawidkorzepa/repos/lowcode-ai/env/lib/python3.12/site-packages (from typing-inspect<1,>=0.4.0->dataclasses-json<0.7,>=0.5.7->langchain-community) (1.0.0)\r\n",
      "\r\n",
      "\u001B[1m[\u001B[0m\u001B[34;49mnotice\u001B[0m\u001B[1;39;49m]\u001B[0m\u001B[39;49m A new release of pip is available: \u001B[0m\u001B[31;49m24.0\u001B[0m\u001B[39;49m -> \u001B[0m\u001B[32;49m24.2\u001B[0m\r\n",
      "\u001B[1m[\u001B[0m\u001B[34;49mnotice\u001B[0m\u001B[1;39;49m]\u001B[0m\u001B[39;49m To update, run: \u001B[0m\u001B[32;49mpip install --upgrade pip\u001B[0m\r\n"
     ]
    }
   ],
   "source": [
    "!pip install langchain-community"
   ],
   "metadata": {
    "collapsed": false,
    "ExecuteTime": {
     "end_time": "2024-09-18T17:00:27.233931Z",
     "start_time": "2024-09-18T17:00:26.166503Z"
    }
   },
   "id": "5cd0f46ce72f186e",
   "execution_count": 81
  },
  {
   "cell_type": "code",
   "outputs": [],
   "source": [
    "from langchain.document_loaders import HuggingFaceDatasetLoader\n",
    "from langchain.text_splitter import RecursiveCharacterTextSplitter\n",
    "from langchain.vectorstores import FAISS\n",
    "from langchain_openai import OpenAIEmbeddings\n",
    "from langchain import hub\n",
    "from langchain_core.prompts import PromptTemplate\n",
    "from langchain_openai import ChatOpenAI\n",
    "from langchain_core.output_parsers import StrOutputParser\n",
    "from langchain_core.runnables import RunnablePassthrough\n",
    "from langchain.chains import create_history_aware_retriever\n",
    "from langchain_core.prompts import ChatPromptTemplate, MessagesPlaceholder\n",
    "from langchain_core.messages import HumanMessage\n",
    "from langchain.chains import create_retrieval_chain\n",
    "from langchain.chains.combine_documents import create_stuff_documents_chain"
   ],
   "metadata": {
    "collapsed": false,
    "ExecuteTime": {
     "end_time": "2024-09-18T17:07:14.339870Z",
     "start_time": "2024-09-18T17:07:14.335660Z"
    }
   },
   "id": "44bd9b23655033db",
   "execution_count": 99
  },
  {
   "cell_type": "code",
   "outputs": [
    {
     "data": {
      "text/plain": "[Document(metadata={'instruction': 'When did Virgin Australia start operating?', 'response': 'Virgin Australia commenced services on 31 August 2000 as Virgin Blue, with two aircraft on a single route.', 'category': 'closed_qa'}, page_content='\"Virgin Australia, the trading name of Virgin Australia Airlines Pty Ltd, is an Australian-based airline. It is the largest airline by fleet size to use the Virgin brand. It commenced services on 31 August 2000 as Virgin Blue, with two aircraft on a single route. It suddenly found itself as a major airline in Australia\\'s domestic market after the collapse of Ansett Australia in September 2001. The airline has since grown to directly serve 32 cities in Australia, from hubs in Brisbane, Melbourne and Sydney.\"'),\n Document(metadata={'instruction': 'Which is a species of fish? Tope or Rope', 'response': 'Tope', 'category': 'classification'}, page_content='\"\"')]"
     },
     "execution_count": 83,
     "metadata": {},
     "output_type": "execute_result"
    }
   ],
   "source": [
    "dataset_name = \"databricks/databricks-dolly-15k\"\n",
    "page_content_column = \"context\"  # or any other column you're interested in\n",
    "\n",
    "# Create a loader instance\n",
    "loader = HuggingFaceDatasetLoader(dataset_name, page_content_column)\n",
    "\n",
    "# Load the data\n",
    "data = loader.load()\n",
    "\n",
    "# Display the first 15 entries\n",
    "data[:2]"
   ],
   "metadata": {
    "collapsed": false,
    "ExecuteTime": {
     "end_time": "2024-09-18T17:00:28.690313Z",
     "start_time": "2024-09-18T17:00:27.238460Z"
    }
   },
   "id": "7d3067d70ebaf54b",
   "execution_count": 83
  },
  {
   "cell_type": "code",
   "outputs": [],
   "source": [
    "# Create an instance of the RecursiveCharacterTextSplitter class with specific parameters.\n",
    "# It splits text into chunks of 1000 characters each with a 150-character overlap.\n",
    "text_splitter = RecursiveCharacterTextSplitter(chunk_size=1000, chunk_overlap=150)\n",
    "\n",
    "# 'data' holds the text you want to split, split the text into documents using the text splitter.\n",
    "docs = text_splitter.split_documents(data)"
   ],
   "metadata": {
    "collapsed": false,
    "ExecuteTime": {
     "end_time": "2024-09-18T17:00:29.243489Z",
     "start_time": "2024-09-18T17:00:28.690912Z"
    }
   },
   "id": "5053fcfc3c55646f",
   "execution_count": 84
  },
  {
   "cell_type": "code",
   "outputs": [],
   "source": [
    "vecstore =  FAISS.from_documents(docs, embedding=OpenAIEmbeddings())"
   ],
   "metadata": {
    "collapsed": false,
    "ExecuteTime": {
     "end_time": "2024-09-18T17:03:33.073067Z",
     "start_time": "2024-09-18T17:00:29.244214Z"
    }
   },
   "id": "17a9da3319c93ec0",
   "execution_count": 85
  },
  {
   "cell_type": "code",
   "outputs": [],
   "source": [
    "retriever = vecstore.as_retriever()"
   ],
   "metadata": {
    "collapsed": false,
    "ExecuteTime": {
     "end_time": "2024-09-18T17:03:33.075322Z",
     "start_time": "2024-09-18T17:03:33.073805Z"
    }
   },
   "id": "4af79393bf904a30",
   "execution_count": 86
  },
  {
   "cell_type": "code",
   "outputs": [
    {
     "data": {
      "text/plain": "[Document(metadata={'instruction': 'When did Virgin Australia start operating?', 'response': 'Virgin Australia commenced services on 31 August 2000 as Virgin Blue, with two aircraft on a single route.', 'category': 'closed_qa'}, page_content='\"Virgin Australia, the trading name of Virgin Australia Airlines Pty Ltd, is an Australian-based airline. It is the largest airline by fleet size to use the Virgin brand. It commenced services on 31 August 2000 as Virgin Blue, with two aircraft on a single route. It suddenly found itself as a major airline in Australia\\'s domestic market after the collapse of Ansett Australia in September 2001. The airline has since grown to directly serve 32 cities in Australia, from hubs in Brisbane, Melbourne and Sydney.\"'),\n Document(metadata={'instruction': 'Note down some details about Munda Airport from the given text', 'response': \"1. Munda Airport in Solomon Islands' Western Province is a global airport with the IATA and ICAO codes MUA and AGGM.\\n2. Developed further by the U.S. Naval Construction Battalions 24 and 73 after its surrender. It was initially constructed by Japanese forces during World War II.\\n3. The airfield was converted to a commercial airport for regional flights after the war.\\n4. The field was considerably improved to become an international airport in 2015 as part of a New Zealand government aid and development project.\\n5. A significant amount of unexploded ordnance left behind by withdrawing US and Japanese forces was also removed as part of the refurbishment.\\n6. Despite the fact that no international flights were scheduled beyond 2019, the main economic goal of the improvement is to act as a backup field for international flights to Honiara International Airport, hence lowering fuel consumption and enhancing flight economics.\\n7. As an example, before the Munda improvement, an aircraft from Brisbane to Honiara required to have enough fuel on board to make a turn around and return to Brisbane, which was the closest practical alternative.\", 'category': 'summarization'}, page_content='and improving the economics of the flight. For example, prior to the Munda upgrade, a flight from Brisbane to Honiara had to carry sufficient fuel to return to Brisbane because that was the nearest viable alternate.\"'),\n Document(metadata={'instruction': 'Who is Leslie Hubert Holden?', 'response': 'Leslie Hubert Holden was an Australian fighter ace who served in Egypt and France during World War I.', 'category': 'summarization'}, page_content='\"Leslie Hubert Holden, MC, AFC (6 March 1895 \\\\u2013 18 September 1932) was an Australian fighter ace of World War I and later a commercial aviator. A South Australian, he joined the Light Horse in May 1915, serving in Egypt and France. In December 1916, he volunteered for the Australian Flying Corps and qualified as a pilot. As a member of No. 2 Squadron on the Western Front, he gained the sobriquets \\\\\"Lucky Les\\\\\" and \\\\\"the homing pigeon\\\\\" after a series of incidents that saw him limping back to base in bullet-riddled aircraft. He was awarded the Military Cross, and went on to achieve five aerial victories flying Airco DH.5s and Royal Aircraft Factory S.E.5s.\"'),\n Document(metadata={'instruction': 'Please give me the list of airports that are owned by Australia Pacific Airports Corporation.', 'response': 'Australia Pacific Airports Corporation Limited owns two airports in Australia called Launceston Airport and Melbourne Airport.', 'category': 'summarization'}, page_content='\"Australia Pacific Airports Corporation Limited (APAC) is an unlisted company and owner of two Australian airports: Melbourne Airport and Launceston Airport. Each airport is operated by an airport lessee company, in which APAC has a controlling interest: Australia Pacific Airports (Melbourne) Pty Ltd and Australia Pacific Airports (Launceston) Pty Ltd respectively.\"')]"
     },
     "execution_count": 87,
     "metadata": {},
     "output_type": "execute_result"
    }
   ],
   "source": [
    "vecstore.similarity_search(query=\"flying australia\", k=4)"
   ],
   "metadata": {
    "collapsed": false,
    "ExecuteTime": {
     "end_time": "2024-09-18T17:03:33.491298Z",
     "start_time": "2024-09-18T17:03:33.076040Z"
    }
   },
   "id": "cf40248c733f270c",
   "execution_count": 87
  },
  {
   "cell_type": "code",
   "outputs": [],
   "source": [
    "llm = ChatOpenAI(model=\"gpt-3.5-turbo-0125\")"
   ],
   "metadata": {
    "collapsed": false,
    "ExecuteTime": {
     "end_time": "2024-09-18T17:03:33.512430Z",
     "start_time": "2024-09-18T17:03:33.492578Z"
    }
   },
   "id": "91d321a99d6cd8ce",
   "execution_count": 88
  },
  {
   "cell_type": "code",
   "outputs": [],
   "source": [
    "def format_docs(docs):\n",
    "    return \"\\n\\n\".join(doc.page_content for doc in docs)"
   ],
   "metadata": {
    "collapsed": false,
    "ExecuteTime": {
     "end_time": "2024-09-18T17:03:33.517247Z",
     "start_time": "2024-09-18T17:03:33.515271Z"
    }
   },
   "id": "c1c4071f8d8d803",
   "execution_count": 89
  },
  {
   "cell_type": "code",
   "outputs": [],
   "source": [
    "# prompt = hub.pull(\"rlm/rag-prompt\")"
   ],
   "metadata": {
    "collapsed": false,
    "ExecuteTime": {
     "end_time": "2024-09-18T17:03:33.519337Z",
     "start_time": "2024-09-18T17:03:33.517842Z"
    }
   },
   "id": "27f7acc25b197512",
   "execution_count": 90
  },
  {
   "cell_type": "code",
   "outputs": [],
   "source": [
    "template = \"\"\"Use the following pieces of context to answer the question at the end.\n",
    "If you don't know the answer, just say that you don't know, don't try to make up an answer.\n",
    "Use three sentences maximum and keep the answer as concise as possible.\n",
    "Always say \"thanks for asking!\" at the end of the answer.\n",
    "\n",
    "{context}\n",
    "\n",
    "Question: {question}\n",
    "\n",
    "Helpful Answer:\"\"\"\n",
    "custom_rag_prompt = PromptTemplate.from_template(template)"
   ],
   "metadata": {
    "collapsed": false,
    "ExecuteTime": {
     "end_time": "2024-09-18T17:03:33.521535Z",
     "start_time": "2024-09-18T17:03:33.519972Z"
    }
   },
   "id": "1e56e862c7691397",
   "execution_count": 91
  },
  {
   "cell_type": "code",
   "outputs": [],
   "source": [
    "rag_chain = (\n",
    "    {\"context\": retriever | format_docs, \"question\": RunnablePassthrough()}\n",
    "    | custom_rag_prompt\n",
    "    | llm\n",
    "    | StrOutputParser()\n",
    ")"
   ],
   "metadata": {
    "collapsed": false,
    "ExecuteTime": {
     "end_time": "2024-09-18T17:03:33.523748Z",
     "start_time": "2024-09-18T17:03:33.522172Z"
    }
   },
   "id": "ca7fe4ecc3e9e94b",
   "execution_count": 92
  },
  {
   "cell_type": "code",
   "outputs": [
    {
     "data": {
      "text/plain": "'Thomas Jefferson był amerykańskim politykiem, dyplomatą, prawnikiem i jednym z Ojców Założycieli Stanów Zjednoczonych, który pełnił funkcję trzeciego prezydenta USA w latach 1801-1809. Był głównym autorem Deklaracji Niepodległości. Dzięki za zapytanie!'"
     },
     "execution_count": 93,
     "metadata": {},
     "output_type": "execute_result"
    }
   ],
   "source": [
    "question = \"Who is Thomas Jefferson? Write in Polish\"\n",
    "rag_chain.invoke(question)"
   ],
   "metadata": {
    "collapsed": false,
    "ExecuteTime": {
     "end_time": "2024-09-18T17:03:35.707777Z",
     "start_time": "2024-09-18T17:03:33.524279Z"
    }
   },
   "id": "8d10f012b57e9906",
   "execution_count": 93
  },
  {
   "cell_type": "code",
   "outputs": [],
   "source": [
    "contextualize_q_system_prompt = \"\"\"Given a chat history and the latest user question \\\n",
    "which might reference context in the chat history, formulate a standalone question \\\n",
    "which can be understood without the chat history. Do NOT answer the question, \\\n",
    "just reformulate it if needed and otherwise return it as is.\"\"\"\n",
    "contextualize_q_prompt = ChatPromptTemplate.from_messages(\n",
    "    [\n",
    "        (\"system\", contextualize_q_system_prompt),\n",
    "        MessagesPlaceholder(\"chat_history\"),\n",
    "        (\"human\", \"{input}\"),\n",
    "    ]\n",
    ")\n",
    "history_aware_retriever = create_history_aware_retriever(\n",
    "    llm, retriever, contextualize_q_prompt\n",
    ")"
   ],
   "metadata": {
    "collapsed": false,
    "ExecuteTime": {
     "end_time": "2024-09-18T17:08:01.928012Z",
     "start_time": "2024-09-18T17:08:01.925012Z"
    }
   },
   "id": "5052b1fa422f4d0e",
   "execution_count": 102
  },
  {
   "cell_type": "code",
   "outputs": [],
   "source": [
    "qa_system_prompt = \"\"\"You are an assistant for question-answering tasks. \\\n",
    "Use the following pieces of retrieved context to answer the question. \\\n",
    "If you don't know the answer, just say that you don't know. \\\n",
    "Use three sentences maximum and keep the answer concise.\\\n",
    "\n",
    "{context}\"\"\"\n",
    "qa_prompt = ChatPromptTemplate.from_messages(\n",
    "    [\n",
    "        (\"system\", qa_system_prompt),\n",
    "        MessagesPlaceholder(\"chat_history\"),\n",
    "        (\"human\", \"{input}\"),\n",
    "    ]\n",
    ")\n",
    "\n",
    "\n",
    "question_answer_chain = create_stuff_documents_chain(llm, qa_prompt)\n",
    "\n",
    "rag_chain = create_retrieval_chain(history_aware_retriever, question_answer_chain)"
   ],
   "metadata": {
    "collapsed": false,
    "ExecuteTime": {
     "end_time": "2024-09-18T17:08:05.113390Z",
     "start_time": "2024-09-18T17:08:05.109908Z"
    }
   },
   "id": "618d889c71a41d70",
   "execution_count": 103
  },
  {
   "cell_type": "code",
   "outputs": [
    {
     "data": {
      "text/plain": "'Virgin Australia is the largest airline by fleet size to use the Virgin brand in Australia, starting as Virgin Blue in 2000. It serves 32 cities in Australia from hubs in Brisbane, Melbourne, and Sydney. The sudden growth came after the collapse of Ansett Australia in 2001.'"
     },
     "execution_count": 104,
     "metadata": {},
     "output_type": "execute_result"
    }
   ],
   "source": [
    "chat_history = []\n",
    "\n",
    "question = \"Tell me about Australian Airlines\"\n",
    "ai_msg_1 = rag_chain.invoke({\"input\": question, \"chat_history\": chat_history})\n",
    "chat_history.extend([HumanMessage(content=question), ai_msg_1[\"answer\"]])\n",
    "ai_msg_1['answer']"
   ],
   "metadata": {
    "collapsed": false,
    "ExecuteTime": {
     "end_time": "2024-09-18T17:08:08.845326Z",
     "start_time": "2024-09-18T17:08:06.911779Z"
    }
   },
   "id": "1c9bccee55bcfa42",
   "execution_count": 104
  },
  {
   "cell_type": "code",
   "outputs": [
    {
     "name": "stdout",
     "output_type": "stream",
     "text": [
      "Przetłumaczę: Virgin Australia to największa linia lotnicza w Australii pod względem liczby samolotów, działająca pod marką Virgin, rozpoczynając działalność jako Virgin Blue w 2000 roku. Obsługuje 32 miasta w Australii z baz w Brisbane, Melbourne i Sydney. Nagły wzrost nastąpił po upadku linii Ansett Australia w 2001 roku.\n"
     ]
    }
   ],
   "source": [
    "second_question = \"Could you translate it to polish language?\"\n",
    "ai_msg_2 = rag_chain.invoke({\"input\": second_question, \"chat_history\": chat_history})\n",
    "\n",
    "print(ai_msg_2[\"answer\"])"
   ],
   "metadata": {
    "collapsed": false,
    "ExecuteTime": {
     "end_time": "2024-09-18T17:08:22.558195Z",
     "start_time": "2024-09-18T17:08:19.310846Z"
    }
   },
   "id": "78c1b001eca99964",
   "execution_count": 106
  },
  {
   "cell_type": "code",
   "outputs": [],
   "source": [],
   "metadata": {
    "collapsed": false,
    "ExecuteTime": {
     "end_time": "2024-09-18T17:03:40.838911Z",
     "start_time": "2024-09-18T17:03:40.836274Z"
    }
   },
   "id": "c91afc1157586204",
   "execution_count": 97
  }
 ],
 "metadata": {
  "kernelspec": {
   "display_name": "Python 3",
   "language": "python",
   "name": "python3"
  },
  "language_info": {
   "codemirror_mode": {
    "name": "ipython",
    "version": 2
   },
   "file_extension": ".py",
   "mimetype": "text/x-python",
   "name": "python",
   "nbconvert_exporter": "python",
   "pygments_lexer": "ipython2",
   "version": "2.7.6"
  }
 },
 "nbformat": 4,
 "nbformat_minor": 5
}
